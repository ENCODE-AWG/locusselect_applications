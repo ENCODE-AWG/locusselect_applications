{
 "cells": [
  {
   "cell_type": "markdown",
   "metadata": {},
   "source": [
    "### Limma voom analysis of neurons"
   ]
  },
  {
   "cell_type": "code",
   "execution_count": 1,
   "metadata": {
    "ExecuteTime": {
     "end_time": "2020-06-11T06:03:05.227881Z",
     "start_time": "2020-06-11T06:03:00.179Z"
    }
   },
   "outputs": [
    {
     "name": "stderr",
     "output_type": "stream",
     "text": [
      "Loading required package: mgcv\n",
      "Loading required package: nlme\n",
      "This is mgcv 1.8-24. For overview type 'help(\"mgcv-package\")'.\n",
      "Loading required package: genefilter\n"
     ]
    }
   ],
   "source": [
    "rm(list=ls())\n",
    "#load necessary libraries \n",
    "library(ggplot2)\n",
    "library(\"BiocParallel\")\n",
    "parallelFlag=TRUE\n",
    "register(MulticoreParam(50))\n",
    "library(sva)\n",
    "library(limma)\n",
    "library(statmod)"
   ]
  },
  {
   "cell_type": "markdown",
   "metadata": {},
   "source": [
    "## Load data and design"
   ]
  },
  {
   "cell_type": "code",
   "execution_count": 2,
   "metadata": {
    "ExecuteTime": {
     "end_time": "2020-06-11T06:03:06.870536Z",
     "start_time": "2020-06-11T06:03:00.181Z"
    }
   },
   "outputs": [],
   "source": [
    "##load RNA-seq TPM\n",
    "data=read.table('atac.counts.txt',header=TRUE,sep='\\t')\n",
    "rownames(data)=paste(data$chrom,data$start,data$end,sep=\"_\")\n",
    "data$chrom=NULL\n",
    "data$start=NULL\n",
    "data$end=NULL"
   ]
  },
  {
   "cell_type": "code",
   "execution_count": 3,
   "metadata": {
    "ExecuteTime": {
     "end_time": "2020-06-11T06:03:06.963530Z",
     "start_time": "2020-06-11T06:03:00.183Z"
    }
   },
   "outputs": [
    {
     "data": {
      "text/html": [
       "163513"
      ],
      "text/latex": [
       "163513"
      ],
      "text/markdown": [
       "163513"
      ],
      "text/plain": [
       "[1] 163513"
      ]
     },
     "metadata": {},
     "output_type": "display_data"
    }
   ],
   "source": [
    "data=data[rowSums(data)>0,]\n",
    "\n",
    "nrow(data)"
   ]
  },
  {
   "cell_type": "code",
   "execution_count": 4,
   "metadata": {
    "ExecuteTime": {
     "end_time": "2020-06-11T06:03:06.977365Z",
     "start_time": "2020-06-11T06:03:00.184Z"
    }
   },
   "outputs": [
    {
     "data": {
      "text/html": [
       "163513"
      ],
      "text/latex": [
       "163513"
      ],
      "text/markdown": [
       "163513"
      ],
      "text/plain": [
       "[1] 163513"
      ]
     },
     "metadata": {},
     "output_type": "display_data"
    }
   ],
   "source": [
    "nrow(data)"
   ]
  },
  {
   "cell_type": "code",
   "execution_count": 5,
   "metadata": {
    "ExecuteTime": {
     "end_time": "2020-06-11T06:03:07.084030Z",
     "start_time": "2020-06-11T06:03:00.185Z"
    }
   },
   "outputs": [
    {
     "data": {
      "text/html": [
       "<table>\n",
       "<caption>A data.frame: 6 × 6</caption>\n",
       "<thead>\n",
       "\t<tr><th></th><th scope=col>excit_rep1</th><th scope=col>excit_rep2</th><th scope=col>h1esc_rep1</th><th scope=col>h1esc_rep2</th><th scope=col>wtc11_rep1</th><th scope=col>wtc11_rep2</th></tr>\n",
       "\t<tr><th></th><th scope=col>&lt;int&gt;</th><th scope=col>&lt;int&gt;</th><th scope=col>&lt;int&gt;</th><th scope=col>&lt;int&gt;</th><th scope=col>&lt;int&gt;</th><th scope=col>&lt;int&gt;</th></tr>\n",
       "</thead>\n",
       "<tbody>\n",
       "\t<tr><th scope=row>chr1_629054_629267</th><td>   13</td><td>   5</td><td> 4052</td><td> 4489</td><td> 4564</td><td> 4747</td></tr>\n",
       "\t<tr><th scope=row>chr1_629270_629483</th><td>  731</td><td> 564</td><td> 9891</td><td>10585</td><td>10924</td><td>11887</td></tr>\n",
       "\t<tr><th scope=row>chr1_629601_629976</th><td>10222</td><td>8715</td><td>25275</td><td>27402</td><td>39880</td><td>43029</td></tr>\n",
       "\t<tr><th scope=row>chr1_630296_630496</th><td>  332</td><td> 251</td><td> 7383</td><td> 7734</td><td> 9700</td><td>10316</td></tr>\n",
       "\t<tr><th scope=row>chr1_630697_631477</th><td> 2256</td><td>1870</td><td>29200</td><td>30948</td><td>28516</td><td>30763</td></tr>\n",
       "\t<tr><th scope=row>chr1_631795_632379</th><td> 1994</td><td>1688</td><td>24934</td><td>26823</td><td>21357</td><td>23197</td></tr>\n",
       "</tbody>\n",
       "</table>\n"
      ],
      "text/latex": [
       "A data.frame: 6 × 6\n",
       "\\begin{tabular}{r|llllll}\n",
       "  & excit\\_rep1 & excit\\_rep2 & h1esc\\_rep1 & h1esc\\_rep2 & wtc11\\_rep1 & wtc11\\_rep2\\\\\n",
       "  & <int> & <int> & <int> & <int> & <int> & <int>\\\\\n",
       "\\hline\n",
       "\tchr1\\_629054\\_629267 &    13 &    5 &  4052 &  4489 &  4564 &  4747\\\\\n",
       "\tchr1\\_629270\\_629483 &   731 &  564 &  9891 & 10585 & 10924 & 11887\\\\\n",
       "\tchr1\\_629601\\_629976 & 10222 & 8715 & 25275 & 27402 & 39880 & 43029\\\\\n",
       "\tchr1\\_630296\\_630496 &   332 &  251 &  7383 &  7734 &  9700 & 10316\\\\\n",
       "\tchr1\\_630697\\_631477 &  2256 & 1870 & 29200 & 30948 & 28516 & 30763\\\\\n",
       "\tchr1\\_631795\\_632379 &  1994 & 1688 & 24934 & 26823 & 21357 & 23197\\\\\n",
       "\\end{tabular}\n"
      ],
      "text/markdown": [
       "\n",
       "A data.frame: 6 × 6\n",
       "\n",
       "| <!--/--> | excit_rep1 &lt;int&gt; | excit_rep2 &lt;int&gt; | h1esc_rep1 &lt;int&gt; | h1esc_rep2 &lt;int&gt; | wtc11_rep1 &lt;int&gt; | wtc11_rep2 &lt;int&gt; |\n",
       "|---|---|---|---|---|---|---|\n",
       "| chr1_629054_629267 |    13 |    5 |  4052 |  4489 |  4564 |  4747 |\n",
       "| chr1_629270_629483 |   731 |  564 |  9891 | 10585 | 10924 | 11887 |\n",
       "| chr1_629601_629976 | 10222 | 8715 | 25275 | 27402 | 39880 | 43029 |\n",
       "| chr1_630296_630496 |   332 |  251 |  7383 |  7734 |  9700 | 10316 |\n",
       "| chr1_630697_631477 |  2256 | 1870 | 29200 | 30948 | 28516 | 30763 |\n",
       "| chr1_631795_632379 |  1994 | 1688 | 24934 | 26823 | 21357 | 23197 |\n",
       "\n"
      ],
      "text/plain": [
       "                   excit_rep1 excit_rep2 h1esc_rep1 h1esc_rep2 wtc11_rep1\n",
       "chr1_629054_629267    13         5        4052       4489       4564     \n",
       "chr1_629270_629483   731       564        9891      10585      10924     \n",
       "chr1_629601_629976 10222      8715       25275      27402      39880     \n",
       "chr1_630296_630496   332       251        7383       7734       9700     \n",
       "chr1_630697_631477  2256      1870       29200      30948      28516     \n",
       "chr1_631795_632379  1994      1688       24934      26823      21357     \n",
       "                   wtc11_rep2\n",
       "chr1_629054_629267  4747     \n",
       "chr1_629270_629483 11887     \n",
       "chr1_629601_629976 43029     \n",
       "chr1_630296_630496 10316     \n",
       "chr1_630697_631477 30763     \n",
       "chr1_631795_632379 23197     "
      ]
     },
     "metadata": {},
     "output_type": "display_data"
    }
   ],
   "source": [
    "head(data)"
   ]
  },
  {
   "cell_type": "code",
   "execution_count": 6,
   "metadata": {
    "ExecuteTime": {
     "end_time": "2020-06-11T06:03:07.122826Z",
     "start_time": "2020-06-11T06:03:00.187Z"
    }
   },
   "outputs": [
    {
     "data": {
      "text/html": [
       "<table>\n",
       "<caption>A data.frame: 6 × 2</caption>\n",
       "<thead>\n",
       "\t<tr><th scope=col>Rep</th><th scope=col>Group</th></tr>\n",
       "\t<tr><th scope=col>&lt;fct&gt;</th><th scope=col>&lt;fct&gt;</th></tr>\n",
       "</thead>\n",
       "<tbody>\n",
       "\t<tr><td>excit_rep1</td><td>excit</td></tr>\n",
       "\t<tr><td>excit_rep2</td><td>excit</td></tr>\n",
       "\t<tr><td>h1esc_rep1</td><td>h1esc</td></tr>\n",
       "\t<tr><td>h1esc_rep2</td><td>h1esc</td></tr>\n",
       "\t<tr><td>wtc11_rep1</td><td>wtc11</td></tr>\n",
       "\t<tr><td>wtc11_rep2</td><td>wtc11</td></tr>\n",
       "</tbody>\n",
       "</table>\n"
      ],
      "text/latex": [
       "A data.frame: 6 × 2\n",
       "\\begin{tabular}{r|ll}\n",
       " Rep & Group\\\\\n",
       " <fct> & <fct>\\\\\n",
       "\\hline\n",
       "\t excit\\_rep1 & excit\\\\\n",
       "\t excit\\_rep2 & excit\\\\\n",
       "\t h1esc\\_rep1 & h1esc\\\\\n",
       "\t h1esc\\_rep2 & h1esc\\\\\n",
       "\t wtc11\\_rep1 & wtc11\\\\\n",
       "\t wtc11\\_rep2 & wtc11\\\\\n",
       "\\end{tabular}\n"
      ],
      "text/markdown": [
       "\n",
       "A data.frame: 6 × 2\n",
       "\n",
       "| Rep &lt;fct&gt; | Group &lt;fct&gt; |\n",
       "|---|---|\n",
       "| excit_rep1 | excit |\n",
       "| excit_rep2 | excit |\n",
       "| h1esc_rep1 | h1esc |\n",
       "| h1esc_rep2 | h1esc |\n",
       "| wtc11_rep1 | wtc11 |\n",
       "| wtc11_rep2 | wtc11 |\n",
       "\n"
      ],
      "text/plain": [
       "  Rep        Group\n",
       "1 excit_rep1 excit\n",
       "2 excit_rep2 excit\n",
       "3 h1esc_rep1 h1esc\n",
       "4 h1esc_rep2 h1esc\n",
       "5 wtc11_rep1 wtc11\n",
       "6 wtc11_rep2 wtc11"
      ]
     },
     "metadata": {},
     "output_type": "display_data"
    }
   ],
   "source": [
    "#load the metadata\n",
    "batches=read.table(\"batches.txt\",header=TRUE,sep='\\t')\n",
    "batches$Group=factor(batches$Group)\n",
    "batches$Rep=factor(batches$Rep)\n",
    "batches"
   ]
  },
  {
   "cell_type": "code",
   "execution_count": 7,
   "metadata": {
    "ExecuteTime": {
     "end_time": "2020-06-11T06:03:09.736701Z",
     "start_time": "2020-06-11T06:03:00.188Z"
    }
   },
   "outputs": [],
   "source": [
    "#use asinh(tpm)\n",
    "#E=as.matrix(asinh(data))\n",
    "E=voom(data)$E"
   ]
  },
  {
   "cell_type": "code",
   "execution_count": null,
   "metadata": {},
   "outputs": [],
   "source": []
  },
  {
   "cell_type": "markdown",
   "metadata": {},
   "source": [
    "## Run PCA "
   ]
  },
  {
   "cell_type": "code",
   "execution_count": 8,
   "metadata": {
    "ExecuteTime": {
     "end_time": "2020-06-11T06:03:10.188802Z",
     "start_time": "2020-06-11T06:03:00.190Z"
    }
   },
   "outputs": [],
   "source": [
    "data.pca=prcomp(t(E))"
   ]
  },
  {
   "cell_type": "code",
   "execution_count": 9,
   "metadata": {
    "ExecuteTime": {
     "end_time": "2020-06-11T06:03:10.200314Z",
     "start_time": "2020-06-11T06:03:00.191Z"
    }
   },
   "outputs": [],
   "source": [
    "var_explained=as.character(round(100*data.pca$sdev^2/sum(data.pca$sdev^2),2))"
   ]
  },
  {
   "cell_type": "code",
   "execution_count": 10,
   "metadata": {
    "ExecuteTime": {
     "end_time": "2020-06-11T06:03:10.213894Z",
     "start_time": "2020-06-11T06:03:00.192Z"
    }
   },
   "outputs": [
    {
     "data": {
      "text/html": [
       "<ol class=list-inline>\n",
       "\t<li>'59.01'</li>\n",
       "\t<li>'21.49'</li>\n",
       "\t<li>'14.44'</li>\n",
       "\t<li>'3.54'</li>\n",
       "\t<li>'1.51'</li>\n",
       "\t<li>'0'</li>\n",
       "</ol>\n"
      ],
      "text/latex": [
       "\\begin{enumerate*}\n",
       "\\item '59.01'\n",
       "\\item '21.49'\n",
       "\\item '14.44'\n",
       "\\item '3.54'\n",
       "\\item '1.51'\n",
       "\\item '0'\n",
       "\\end{enumerate*}\n"
      ],
      "text/markdown": [
       "1. '59.01'\n",
       "2. '21.49'\n",
       "3. '14.44'\n",
       "4. '3.54'\n",
       "5. '1.51'\n",
       "6. '0'\n",
       "\n",
       "\n"
      ],
      "text/plain": [
       "[1] \"59.01\" \"21.49\" \"14.44\" \"3.54\"  \"1.51\"  \"0\"    "
      ]
     },
     "metadata": {},
     "output_type": "display_data"
    }
   ],
   "source": [
    "var_explained"
   ]
  },
  {
   "cell_type": "code",
   "execution_count": 11,
   "metadata": {
    "ExecuteTime": {
     "end_time": "2020-06-11T06:03:10.339048Z",
     "start_time": "2020-06-11T06:03:00.193Z"
    }
   },
   "outputs": [
    {
     "data": {
      "image/png": "[encoded data removed]",
      "text/plain": [
       "plot without title"
      ]
     },
     "metadata": {},
     "output_type": "display_data"
    }
   ],
   "source": [
    "#svg(filename=\"age_rna_uncorrected_scree.svg\",\n",
    "#   height=3,\n",
    "#   width=4,\n",
    "#   pointsize=12)\n",
    "#print(\n",
    "    barplot(100*data.pca$sdev^2/sum(data.pca$sdev^2),las=2,ylab=\"% Variance Explained\",xlab=\"Principal Component\",ylim=c(0,100), xlim=c(0,10))#)\n",
    "#dev.off() "
   ]
  },
  {
   "cell_type": "code",
   "execution_count": 12,
   "metadata": {
    "ExecuteTime": {
     "end_time": "2020-06-11T06:03:10.369319Z",
     "start_time": "2020-06-11T06:03:00.195Z"
    }
   },
   "outputs": [],
   "source": [
    "pca_df=data.frame(data.pca$x)\n",
    "pca_df=cbind(pca_df,batches)\n",
    "#pca_df$Day=factor(pca_df$Day)"
   ]
  },
  {
   "cell_type": "code",
   "execution_count": 13,
   "metadata": {
    "ExecuteTime": {
     "end_time": "2020-06-11T06:03:10.402645Z",
     "start_time": "2020-06-11T06:03:00.196Z"
    }
   },
   "outputs": [
    {
     "data": {
      "text/html": [
       "<table>\n",
       "<caption>A data.frame: 6 × 8</caption>\n",
       "<thead>\n",
       "\t<tr><th></th><th scope=col>PC1</th><th scope=col>PC2</th><th scope=col>PC3</th><th scope=col>PC4</th><th scope=col>PC5</th><th scope=col>PC6</th><th scope=col>Rep</th><th scope=col>Group</th></tr>\n",
       "\t<tr><th></th><th scope=col>&lt;dbl&gt;</th><th scope=col>&lt;dbl&gt;</th><th scope=col>&lt;dbl&gt;</th><th scope=col>&lt;dbl&gt;</th><th scope=col>&lt;dbl&gt;</th><th scope=col>&lt;dbl&gt;</th><th scope=col>&lt;fct&gt;</th><th scope=col>&lt;fct&gt;</th></tr>\n",
       "</thead>\n",
       "<tbody>\n",
       "\t<tr><th scope=row>excit_rep1</th><td>-498.9031</td><td>  97.95583</td><td> 206.471524</td><td>   0.4579326</td><td>  0.51022240</td><td> 4.942966e-12</td><td>excit_rep1</td><td>excit</td></tr>\n",
       "\t<tr><th scope=row>excit_rep2</th><td>-321.2249</td><td> -18.15558</td><td>-290.667648</td><td>   2.3506027</td><td> -0.06296758</td><td> 4.747813e-12</td><td>excit_rep2</td><td>excit</td></tr>\n",
       "\t<tr><th scope=row>h1esc_rep1</th><td> 275.8440</td><td> 193.89935</td><td>  -7.214294</td><td>   0.1572060</td><td> 83.21432746</td><td>-2.122495e-12</td><td>h1esc_rep1</td><td>h1esc</td></tr>\n",
       "\t<tr><th scope=row>h1esc_rep2</th><td> 272.4542</td><td> 196.21007</td><td>  -6.037442</td><td>   0.5680802</td><td>-83.12834205</td><td>-3.531815e-12</td><td>h1esc_rep2</td><td>h1esc</td></tr>\n",
       "\t<tr><th scope=row>wtc11_rep1</th><td> 140.8880</td><td>-238.78349</td><td>  51.731486</td><td> 125.4858894</td><td> -0.13650925</td><td>-2.438629e-12</td><td>wtc11_rep1</td><td>wtc11</td></tr>\n",
       "\t<tr><th scope=row>wtc11_rep2</th><td> 130.9417</td><td>-231.12618</td><td>  45.716375</td><td>-129.0197109</td><td> -0.39673098</td><td>-1.594187e-12</td><td>wtc11_rep2</td><td>wtc11</td></tr>\n",
       "</tbody>\n",
       "</table>\n"
      ],
      "text/latex": [
       "A data.frame: 6 × 8\n",
       "\\begin{tabular}{r|llllllll}\n",
       "  & PC1 & PC2 & PC3 & PC4 & PC5 & PC6 & Rep & Group\\\\\n",
       "  & <dbl> & <dbl> & <dbl> & <dbl> & <dbl> & <dbl> & <fct> & <fct>\\\\\n",
       "\\hline\n",
       "\texcit\\_rep1 & -498.9031 &   97.95583 &  206.471524 &    0.4579326 &   0.51022240 &  4.942966e-12 & excit\\_rep1 & excit\\\\\n",
       "\texcit\\_rep2 & -321.2249 &  -18.15558 & -290.667648 &    2.3506027 &  -0.06296758 &  4.747813e-12 & excit\\_rep2 & excit\\\\\n",
       "\th1esc\\_rep1 &  275.8440 &  193.89935 &   -7.214294 &    0.1572060 &  83.21432746 & -2.122495e-12 & h1esc\\_rep1 & h1esc\\\\\n",
       "\th1esc\\_rep2 &  272.4542 &  196.21007 &   -6.037442 &    0.5680802 & -83.12834205 & -3.531815e-12 & h1esc\\_rep2 & h1esc\\\\\n",
       "\twtc11\\_rep1 &  140.8880 & -238.78349 &   51.731486 &  125.4858894 &  -0.13650925 & -2.438629e-12 & wtc11\\_rep1 & wtc11\\\\\n",
       "\twtc11\\_rep2 &  130.9417 & -231.12618 &   45.716375 & -129.0197109 &  -0.39673098 & -1.594187e-12 & wtc11\\_rep2 & wtc11\\\\\n",
       "\\end{tabular}\n"
      ],
      "text/markdown": [
       "\n",
       "A data.frame: 6 × 8\n",
       "\n",
       "| <!--/--> | PC1 &lt;dbl&gt; | PC2 &lt;dbl&gt; | PC3 &lt;dbl&gt; | PC4 &lt;dbl&gt; | PC5 &lt;dbl&gt; | PC6 &lt;dbl&gt; | Rep &lt;fct&gt; | Group &lt;fct&gt; |\n",
       "|---|---|---|---|---|---|---|---|---|\n",
       "| excit_rep1 | -498.9031 |   97.95583 |  206.471524 |    0.4579326 |   0.51022240 |  4.942966e-12 | excit_rep1 | excit |\n",
       "| excit_rep2 | -321.2249 |  -18.15558 | -290.667648 |    2.3506027 |  -0.06296758 |  4.747813e-12 | excit_rep2 | excit |\n",
       "| h1esc_rep1 |  275.8440 |  193.89935 |   -7.214294 |    0.1572060 |  83.21432746 | -2.122495e-12 | h1esc_rep1 | h1esc |\n",
       "| h1esc_rep2 |  272.4542 |  196.21007 |   -6.037442 |    0.5680802 | -83.12834205 | -3.531815e-12 | h1esc_rep2 | h1esc |\n",
       "| wtc11_rep1 |  140.8880 | -238.78349 |   51.731486 |  125.4858894 |  -0.13650925 | -2.438629e-12 | wtc11_rep1 | wtc11 |\n",
       "| wtc11_rep2 |  130.9417 | -231.12618 |   45.716375 | -129.0197109 |  -0.39673098 | -1.594187e-12 | wtc11_rep2 | wtc11 |\n",
       "\n"
      ],
      "text/plain": [
       "           PC1       PC2        PC3         PC4          PC5         \n",
       "excit_rep1 -498.9031   97.95583  206.471524    0.4579326   0.51022240\n",
       "excit_rep2 -321.2249  -18.15558 -290.667648    2.3506027  -0.06296758\n",
       "h1esc_rep1  275.8440  193.89935   -7.214294    0.1572060  83.21432746\n",
       "h1esc_rep2  272.4542  196.21007   -6.037442    0.5680802 -83.12834205\n",
       "wtc11_rep1  140.8880 -238.78349   51.731486  125.4858894  -0.13650925\n",
       "wtc11_rep2  130.9417 -231.12618   45.716375 -129.0197109  -0.39673098\n",
       "           PC6           Rep        Group\n",
       "excit_rep1  4.942966e-12 excit_rep1 excit\n",
       "excit_rep2  4.747813e-12 excit_rep2 excit\n",
       "h1esc_rep1 -2.122495e-12 h1esc_rep1 h1esc\n",
       "h1esc_rep2 -3.531815e-12 h1esc_rep2 h1esc\n",
       "wtc11_rep1 -2.438629e-12 wtc11_rep1 wtc11\n",
       "wtc11_rep2 -1.594187e-12 wtc11_rep2 wtc11"
      ]
     },
     "metadata": {},
     "output_type": "display_data"
    }
   ],
   "source": [
    "pca_df"
   ]
  },
  {
   "cell_type": "code",
   "execution_count": 14,
   "metadata": {
    "ExecuteTime": {
     "end_time": "2020-06-11T06:03:10.805217Z",
     "start_time": "2020-06-11T06:03:00.197Z"
    }
   },
   "outputs": [
    {
     "data": {
      "image/png": "[encoded data removed]",
      "text/plain": [
       "plot without title"
      ]
     },
     "metadata": {},
     "output_type": "display_data"
    }
   ],
   "source": [
    "#svg(filename=\"age_rna_uncorrected_PC1_vs_PC2_batch.svg\",\n",
    "#   height=8,\n",
    "#   width=8,\n",
    "#   pointsize=12)\n",
    "#print(\n",
    "options(repr.plot.width=4, repr.plot.height=3)\n",
    "    ggplot(data=pca_df,aes(x=pca_df$PC1,y=pca_df$PC2,color=pca_df$Group,label=pca_df$Rep))+\n",
    "geom_point(size=3)+\n",
    "geom_text(nudge_x=2,nudge_y = 12,size=5)+\n",
    "scale_color_manual(values=c('#e41a1c','#377eb8','#4daf4a'))+\n",
    "theme_bw()+\n",
    "xlab(\"PC1: 83.9% Var\")+\n",
    "ylab(\"PC2: 8.35% Var\")\n",
    "#dev.off() "
   ]
  },
  {
   "cell_type": "code",
   "execution_count": 15,
   "metadata": {
    "ExecuteTime": {
     "end_time": "2020-06-11T06:03:11.082176Z",
     "start_time": "2020-06-11T06:03:00.198Z"
    }
   },
   "outputs": [],
   "source": [
    "#fit <- lmFit(E,full.design.sv)\n",
    "fit = lmFit(E,model.matrix(~0+Group,data=batches))"
   ]
  },
  {
   "cell_type": "code",
   "execution_count": 16,
   "metadata": {
    "ExecuteTime": {
     "end_time": "2020-06-11T06:03:11.097065Z",
     "start_time": "2020-06-11T06:03:00.199Z"
    }
   },
   "outputs": [
    {
     "data": {
      "text/html": [
       "<ol class=list-inline>\n",
       "\t<li>'Groupexcit'</li>\n",
       "\t<li>'Grouph1esc'</li>\n",
       "\t<li>'Groupwtc11'</li>\n",
       "</ol>\n"
      ],
      "text/latex": [
       "\\begin{enumerate*}\n",
       "\\item 'Groupexcit'\n",
       "\\item 'Grouph1esc'\n",
       "\\item 'Groupwtc11'\n",
       "\\end{enumerate*}\n"
      ],
      "text/markdown": [
       "1. 'Groupexcit'\n",
       "2. 'Grouph1esc'\n",
       "3. 'Groupwtc11'\n",
       "\n",
       "\n"
      ],
      "text/plain": [
       "[1] \"Groupexcit\" \"Grouph1esc\" \"Groupwtc11\""
      ]
     },
     "metadata": {},
     "output_type": "display_data"
    }
   ],
   "source": [
    "colnames(fit)\n"
   ]
  },
  {
   "cell_type": "code",
   "execution_count": 17,
   "metadata": {
    "ExecuteTime": {
     "end_time": "2020-06-11T06:03:11.109795Z",
     "start_time": "2020-06-11T06:03:00.200Z"
    }
   },
   "outputs": [
    {
     "data": {
      "text/html": [
       "<ol class=list-inline>\n",
       "\t<li>'Groupexcit'</li>\n",
       "\t<li>'Grouph1esc'</li>\n",
       "\t<li>'Groupwtc11'</li>\n",
       "</ol>\n"
      ],
      "text/latex": [
       "\\begin{enumerate*}\n",
       "\\item 'Groupexcit'\n",
       "\\item 'Grouph1esc'\n",
       "\\item 'Groupwtc11'\n",
       "\\end{enumerate*}\n"
      ],
      "text/markdown": [
       "1. 'Groupexcit'\n",
       "2. 'Grouph1esc'\n",
       "3. 'Groupwtc11'\n",
       "\n",
       "\n"
      ],
      "text/plain": [
       "[1] \"Groupexcit\" \"Grouph1esc\" \"Groupwtc11\""
      ]
     },
     "metadata": {},
     "output_type": "display_data"
    }
   ],
   "source": [
    "colnames(fit$coefficients)"
   ]
  },
  {
   "cell_type": "markdown",
   "metadata": {},
   "source": [
    "###  Contrasts "
   ]
  },
  {
   "cell_type": "code",
   "execution_count": 18,
   "metadata": {
    "ExecuteTime": {
     "end_time": "2020-06-11T06:03:11.121243Z",
     "start_time": "2020-06-11T06:03:00.201Z"
    }
   },
   "outputs": [],
   "source": [
    "#create contrasts of interest \n",
    "cont.matrix=makeContrasts(\n",
    "    excit_vs_wtc11=\"Groupexcit - Groupwtc11\",  \n",
    "    excit_vs_h1esc=\"Groupexcit - Grouph1esc\",\n",
    "    h1esc_vs_wtc11=\"Grouph1esc - Groupwtc11\",\n",
    "    levels=model.matrix(~0+Group,data=batches))\n"
   ]
  },
  {
   "cell_type": "code",
   "execution_count": 19,
   "metadata": {
    "ExecuteTime": {
     "end_time": "2020-06-11T06:03:11.133299Z",
     "start_time": "2020-06-11T06:03:00.202Z"
    }
   },
   "outputs": [],
   "source": [
    "pval_thresh=0.01\n",
    "lfc_thresh=1"
   ]
  },
  {
   "cell_type": "code",
   "execution_count": 20,
   "metadata": {
    "ExecuteTime": {
     "end_time": "2020-06-11T06:03:12.084426Z",
     "start_time": "2020-06-11T06:03:00.203Z"
    },
    "scrolled": true
   },
   "outputs": [],
   "source": [
    "fit2=contrasts.fit(fit,cont.matrix)\n",
    "e=eBayes(fit2)\n",
    "comparisons=colnames(cont.matrix)"
   ]
  },
  {
   "cell_type": "code",
   "execution_count": 21,
   "metadata": {
    "ExecuteTime": {
     "end_time": "2020-06-11T06:03:28.015169Z",
     "start_time": "2020-06-11T06:03:00.204Z"
    }
   },
   "outputs": [
    {
     "name": "stdout",
     "output_type": "stream",
     "text": [
      "[1] \"excit_vs_wtc11 \\n sig: 3884 \\n up: 545 \\n down: 3339 \\n\"\n",
      "[1] \"excit_vs_h1esc \\n sig: 17754 \\n up: 5369 \\n down: 12385 \\n\"\n",
      "[1] \"h1esc_vs_wtc11 \\n sig: 0 \\n up: 0 \\n down: 0 \\n\"\n"
     ]
    }
   ],
   "source": [
    "for(i in seq(1,length(comparisons)))\n",
    "{\n",
    "  tab<-topTable(e, number=nrow(e),coef=i,lfc=lfc_thresh, p.value = pval_thresh)\n",
    "  up=sum(tab$logFC> 0)\n",
    "  down=sum(tab$logFC< 0)\n",
    "  sig=nrow(tab)\n",
    "  curtitle=paste(comparisons[i],'\\n','sig:',sig,'\\n','up:',up,'\\n','down:',down,'\\n')\n",
    "  print(curtitle)\n",
    "  vals=topTable(e,number=nrow(e),coef=i)\n",
    "  vals$pscaled=-1*log10(vals$adj.P.Val)\n",
    "  vals$sig=vals$adj.P.Val<pval_thresh & abs(vals$logFC)>lfc_thresh \n",
    "  png(paste(\"volcano_diff\",comparisons[i],\".png\",sep=\"\"))\n",
    "  print(ggplot(data=vals,\n",
    "               aes(y=vals$pscaled,x=vals$logFC,color=vals$sig))+\n",
    "               geom_point(alpha=0.1)+\n",
    "               xlab(\"log2(FC)\")+\n",
    "               ylab(\"-log10(pval)\")+\n",
    "               ggtitle(curtitle)+\n",
    "               theme_bw()+\n",
    "               scale_color_manual(values=c(\"#000000\",\"#FF0000\")))\n",
    "  dev.off() \n",
    "  write.table(tab,file=paste(\"diff_\",comparisons[i],\".tsv\",sep=\"\"),quote=FALSE,sep='\\t',row.names = TRUE,col.names = TRUE)\n",
    "}\n",
    "    "
   ]
  },
  {
   "cell_type": "code",
   "execution_count": null,
   "metadata": {},
   "outputs": [],
   "source": []
  }
 ],
 "metadata": {
  "kernelspec": {
   "display_name": "R 3.5",
   "language": "R",
   "name": "ir35"
  },
  "language_info": {
   "codemirror_mode": "r",
   "file_extension": ".r",
   "mimetype": "text/x-r-source",
   "name": "R",
   "pygments_lexer": "r",
   "version": "3.5.1"
  }
 },
 "nbformat": 4,
 "nbformat_minor": 2
}
