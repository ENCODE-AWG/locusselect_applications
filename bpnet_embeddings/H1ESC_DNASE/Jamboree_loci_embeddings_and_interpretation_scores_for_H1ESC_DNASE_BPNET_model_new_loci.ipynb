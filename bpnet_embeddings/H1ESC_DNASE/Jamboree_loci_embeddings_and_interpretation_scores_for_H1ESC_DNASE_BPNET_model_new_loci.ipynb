{
 "cells": [
  {
   "cell_type": "markdown",
   "metadata": {
    "colab_type": "text",
    "id": "view-in-github"
   },
   "source": [
    "<a href=\"https://colab.research.google.com/github/kundajelab/locusselect/blob/master/examples/regression%20on%20200%20bp%20genome%20bins.ipynb\" target=\"_parent\"><img src=\"https://colab.research.google.com/assets/colab-badge.svg\" alt=\"Open In Colab\"/></a>"
   ]
  },
  {
   "cell_type": "code",
   "execution_count": 1,
   "metadata": {
    "ExecuteTime": {
     "end_time": "2020-06-08T06:23:53.283168Z",
     "start_time": "2020-06-08T06:23:50.741452Z"
    },
    "colab": {},
    "colab_type": "code",
    "id": "PlqtDJn5vLs4"
   },
   "outputs": [],
   "source": [
    "%reload_ext autoreload\n",
    "%autoreload 2\n",
    "%matplotlib inline\n",
    "import warnings\n",
    "warnings.filterwarnings('ignore')\n",
    "from numpy.random import seed\n",
    "seed(1234)\n",
    "import pandas as pd "
   ]
  },
  {
   "cell_type": "code",
   "execution_count": 2,
   "metadata": {
    "ExecuteTime": {
     "end_time": "2020-06-08T06:23:53.308612Z",
     "start_time": "2020-06-08T06:23:53.287316Z"
    },
    "colab": {},
    "colab_type": "code",
    "id": "_jFl7rUdvM8y"
   },
   "outputs": [],
   "source": [
    "#!pip install locusselect "
   ]
  },
  {
   "cell_type": "markdown",
   "metadata": {
    "colab_type": "text",
    "id": "eHfRoZoAvLs8"
   },
   "source": [
    "## H1ESC DNASE bpnet model, global average pooll, 500 filters "
   ]
  },
  {
   "cell_type": "code",
   "execution_count": 3,
   "metadata": {
    "ExecuteTime": {
     "end_time": "2020-06-08T06:23:59.712122Z",
     "start_time": "2020-06-08T06:23:53.310548Z"
    },
    "colab": {},
    "colab_type": "code",
    "id": "DpEc9JvVvLs8"
   },
   "outputs": [
    {
     "name": "stderr",
     "output_type": "stream",
     "text": [
      "Using TensorFlow backend.\n"
     ]
    }
   ],
   "source": [
    "## generate embeddings at the -2 layer \n",
    "import locusselect \n",
    "from locusselect.embeddings import * \n",
    "from locusselect.interpret import * \n",
    "from locusselect.utils import * \n",
    "from locusselect.gapped_kmers import * \n",
    "import numpy as np\n"
   ]
  },
  {
   "cell_type": "code",
   "execution_count": 4,
   "metadata": {
    "ExecuteTime": {
     "end_time": "2020-06-08T06:24:02.074568Z",
     "start_time": "2020-06-08T06:24:02.004123Z"
    }
   },
   "outputs": [
    {
     "data": {
      "text/plain": [
       "'\\nfor split in splits: \\n    fc_embedding_args={\"input_bed_file\":coord_prefix+\".\"+str(split),\\n                \"model_hdf5\":model_prefix+\".\"+str(0)+\".hdf5\",\\n                \"ref_fasta\":\"/users/annashch/male.hg19.fa\",\\n                \"center_on_summit\":True,\\n                \"center_on_bed_interval\":False,\\n                \"flank\":673,\\n                \"batch_size\":20,\\n                \"embedding_layer_name\":embedding_layer_name,\\n                \"embedding_input_name\":embedding_input_name,\\n                \"expand_dims\":False,\\n                \"threads\":20,\\n                \"output_npz_file\":str(split)+\".H1ESC.DNASE.all_peaks.bpnet.npz\"}\\n    fc_regions, fc_embeddings = compute_embeddings(fc_embedding_args)\\n'"
      ]
     },
     "execution_count": 4,
     "metadata": {},
     "output_type": "execute_result"
    }
   ],
   "source": [
    "#get embeddings for all overlap peaks \n",
    "splits=list(range(10))\n",
    "coord_prefix=\"/mnt/lab_data2/annashch/locusselect_applications/splits/h1esc_dnase_overlap/h1esc.dnase.optimal_peak.narrowPeak\"\n",
    "model_prefix=\"/srv/scratch/annashch/deeplearning/profile/h1esc_dnase/seed.1234.cw.20.filters.500.naive.range.4.6.to.11.5/seed.1234.cs.20.filters.500.naive.range.4.6.to.11.5.bias.observed\"\n",
    "embedding_layer_name=\"gap\"\n",
    "embedding_input_name=\"sequence\"\n",
    "'''\n",
    "for split in splits: \n",
    "    fc_embedding_args={\"input_bed_file\":coord_prefix+\".\"+str(split),\n",
    "                \"model_hdf5\":model_prefix+\".\"+str(0)+\".hdf5\",\n",
    "                \"ref_fasta\":\"/users/annashch/male.hg19.fa\",\n",
    "                \"center_on_summit\":True,\n",
    "                \"center_on_bed_interval\":False,\n",
    "                \"flank\":673,\n",
    "                \"batch_size\":20,\n",
    "                \"embedding_layer_name\":embedding_layer_name,\n",
    "                \"embedding_input_name\":embedding_input_name,\n",
    "                \"expand_dims\":False,\n",
    "                \"threads\":20,\n",
    "                \"output_npz_file\":str(split)+\".H1ESC.DNASE.all_peaks.bpnet.npz\"}\n",
    "    fc_regions, fc_embeddings = compute_embeddings(fc_embedding_args)\n",
    "'''"
   ]
  },
  {
   "cell_type": "code",
   "execution_count": 5,
   "metadata": {
    "ExecuteTime": {
     "end_time": "2020-06-08T06:24:12.603311Z",
     "start_time": "2020-06-08T06:24:12.523540Z"
    }
   },
   "outputs": [
    {
     "data": {
      "text/plain": [
       "'\\nfor index,row in loci_df.iterrows(): \\n    locus=row[0] \\n    split=row[1]\\n    coords=coord_prefix+locus+\".geneLocus.250bp.windows.hg19.bed\"\\n    #first, we get embeddings from the model fully connected layer \\n    fc_embedding_args={\"input_bed_file\":coords,\\n                   \"model_hdf5\":model_prefix+\".\"+str(0)+\".hdf5\",\\n                   \"ref_fasta\":\"/users/annashch/male.hg19.fa\",\\n                   \"center_on_summit\":True,\\n                   \"center_on_bed_interval\":False,\\n                   \"flank\":673,\\n                   \"embedding_layer_name\":embedding_layer_name,\\n                   \"embedding_input_name\":embedding_input_name,\\n                   \"expand_dims\":False,\\n                   \"threads\":20,\\n                   \"batch_size\":20,\\n                   \"output_npz_file\":locus+\".H1ESC.DNASE.locus.bpnet.npz\"}\\n    fc_regions, fc_embeddings = compute_embeddings(fc_embedding_args)\\n'"
      ]
     },
     "execution_count": 5,
     "metadata": {},
     "output_type": "execute_result"
    }
   ],
   "source": [
    "## get the loci embeddings \n",
    "coord_prefix=\"/mnt/lab_data2/annashch/locusselect_applications/coordinates/H1ESC_PROXY_FOR_WTC11/\"\n",
    "loci_df=pd.read_csv(\"/mnt/lab_data2/annashch/locusselect_applications/coordinates/H1ESC_PROXY_FOR_WTC11/gene_to_fold.geneLocus.250bp.windows.hg19.bed\",header=None,sep='\\t')\n",
    "'''\n",
    "for index,row in loci_df.iterrows(): \n",
    "    locus=row[0] \n",
    "    split=row[1]\n",
    "    coords=coord_prefix+locus+\".geneLocus.250bp.windows.hg19.bed\"\n",
    "    #first, we get embeddings from the model fully connected layer \n",
    "    fc_embedding_args={\"input_bed_file\":coords,\n",
    "                   \"model_hdf5\":model_prefix+\".\"+str(0)+\".hdf5\",\n",
    "                   \"ref_fasta\":\"/users/annashch/male.hg19.fa\",\n",
    "                   \"center_on_summit\":True,\n",
    "                   \"center_on_bed_interval\":False,\n",
    "                   \"flank\":673,\n",
    "                   \"embedding_layer_name\":embedding_layer_name,\n",
    "                   \"embedding_input_name\":embedding_input_name,\n",
    "                   \"expand_dims\":False,\n",
    "                   \"threads\":20,\n",
    "                   \"batch_size\":20,\n",
    "                   \"output_npz_file\":locus+\".H1ESC.DNASE.locus.bpnet.npz\"}\n",
    "    fc_regions, fc_embeddings = compute_embeddings(fc_embedding_args)\n",
    "'''"
   ]
  },
  {
   "cell_type": "code",
   "execution_count": 6,
   "metadata": {
    "ExecuteTime": {
     "end_time": "2020-06-08T06:24:47.722752Z",
     "start_time": "2020-06-08T06:24:12.978081Z"
    }
   },
   "outputs": [],
   "source": [
    "#combine the loci embeddings into a single data frame \n",
    "all_embeddings=None\n",
    "all_bed_entries=None\n",
    "locus_to_pos={}\n",
    "locus_suffix=\".H1ESC.DNASE.locus.bpnet.npz\"\n",
    "loci=list(loci_df[0])\n",
    "last_index=0\n",
    "for locus in loci: \n",
    "    cur_embedding_data=np.load(locus+locus_suffix,allow_pickle=True)\n",
    "    cur_bed_entries=cur_embedding_data['bed_entries']\n",
    "    cur_embeddings=cur_embedding_data['embeddings']\n",
    "    if all_embeddings is None: \n",
    "        all_embeddings=cur_embeddings \n",
    "        all_bed_entries=cur_bed_entries\n",
    "    else: \n",
    "        all_embeddings=np.concatenate((all_embeddings,cur_embeddings),axis=0)\n",
    "        all_bed_entries=np.concatenate((all_bed_entries,cur_bed_entries),axis=0)\n",
    "    start_pos=last_index \n",
    "    end_pos=last_index+cur_embeddings.shape[0]\n",
    "    last_index=end_pos \n",
    "    locus_to_pos[locus]=[start_pos,end_pos]"
   ]
  },
  {
   "cell_type": "code",
   "execution_count": 7,
   "metadata": {
    "ExecuteTime": {
     "end_time": "2020-06-08T06:24:47.955622Z",
     "start_time": "2020-06-08T06:24:47.725551Z"
    }
   },
   "outputs": [
    {
     "data": {
      "text/plain": [
       "(675308, 500)"
      ]
     },
     "execution_count": 7,
     "metadata": {},
     "output_type": "execute_result"
    }
   ],
   "source": [
    "all_embeddings.shape"
   ]
  },
  {
   "cell_type": "code",
   "execution_count": 8,
   "metadata": {
    "ExecuteTime": {
     "end_time": "2020-06-08T06:24:55.226382Z",
     "start_time": "2020-06-08T06:24:47.957917Z"
    }
   },
   "outputs": [],
   "source": [
    "#augment with all peak embeddings \n",
    "splits=list(range(10))\n",
    "\n",
    "for split in splits: \n",
    "    cur_embeddings_data=np.load(str(split)+\".H1ESC.DNASE.all_peaks.bpnet.npz\",allow_pickle=True)\n",
    "    cur_bed_entries=cur_embedding_data['bed_entries']\n",
    "    cur_embeddings=cur_embedding_data['embeddings']\n",
    "    all_embeddings=np.concatenate((all_embeddings,cur_embeddings),axis=0)\n",
    "    all_bed_entries=np.concatenate((all_bed_entries,cur_bed_entries),axis=0)"
   ]
  },
  {
   "cell_type": "code",
   "execution_count": 9,
   "metadata": {
    "ExecuteTime": {
     "end_time": "2020-06-08T06:24:55.833529Z",
     "start_time": "2020-06-08T06:24:55.228772Z"
    }
   },
   "outputs": [
    {
     "data": {
      "text/plain": [
       "(755308,)"
      ]
     },
     "execution_count": 9,
     "metadata": {},
     "output_type": "execute_result"
    }
   ],
   "source": [
    "all_bed_entries.shape"
   ]
  },
  {
   "cell_type": "code",
   "execution_count": 10,
   "metadata": {
    "ExecuteTime": {
     "end_time": "2020-06-08T06:24:55.925590Z",
     "start_time": "2020-06-08T06:24:55.838319Z"
    }
   },
   "outputs": [
    {
     "data": {
      "text/plain": [
       "(755308, 500)"
      ]
     },
     "execution_count": 10,
     "metadata": {},
     "output_type": "execute_result"
    }
   ],
   "source": [
    "all_embeddings.shape"
   ]
  },
  {
   "cell_type": "code",
   "execution_count": 11,
   "metadata": {
    "ExecuteTime": {
     "end_time": "2020-06-08T06:24:58.905242Z",
     "start_time": "2020-06-08T06:24:55.927289Z"
    }
   },
   "outputs": [],
   "source": [
    "# run PCA on the embeddings \n",
    "# Dimension reduction and clustering libraries\n",
    "import umap\n",
    "import hdbscan\n",
    "import sklearn.cluster as cluster\n",
    "from sklearn.metrics import adjusted_rand_score, adjusted_mutual_info_score\n"
   ]
  },
  {
   "cell_type": "code",
   "execution_count": 12,
   "metadata": {
    "ExecuteTime": {
     "end_time": "2020-06-08T06:25:31.111131Z",
     "start_time": "2020-06-08T06:24:58.908104Z"
    }
   },
   "outputs": [],
   "source": [
    "from sklearn.decomposition import PCA \n",
    "  \n",
    "pca = PCA(n_components = 500) \n",
    "  \n",
    "pca_res = pca.fit_transform(all_embeddings)   \n",
    "explained_variance = pca.explained_variance_ratio_ # verify that the PCA embeddings have same UMAP projection as original embeddings. "
   ]
  },
  {
   "cell_type": "code",
   "execution_count": 13,
   "metadata": {
    "ExecuteTime": {
     "end_time": "2020-06-08T06:25:31.217394Z",
     "start_time": "2020-06-08T06:25:31.114804Z"
    }
   },
   "outputs": [
    {
     "data": {
      "text/plain": [
       "array([0.68302747, 0.91189376, 0.94396831, 0.95569547, 0.96545639,\n",
       "       0.97070281, 0.9740205 , 0.97724785, 0.97949033, 0.98107559,\n",
       "       0.98231093, 0.98332656, 0.98417442, 0.98490326, 0.98558879,\n",
       "       0.98619026, 0.98666528, 0.98707767, 0.987462  , 0.98782528,\n",
       "       0.98817007, 0.98848529, 0.98878129, 0.98905936, 0.989319  ,\n",
       "       0.98956545, 0.98980533, 0.99001979, 0.99021781, 0.99041205,\n",
       "       0.99059598, 0.99077692, 0.99095163, 0.99111601, 0.99127683,\n",
       "       0.99142854, 0.99157132, 0.99171193, 0.99184658, 0.99197779,\n",
       "       0.99210279, 0.99222413, 0.99234193, 0.99245389, 0.99256398,\n",
       "       0.99267257, 0.99277581, 0.99287702, 0.99297503, 0.99307086,\n",
       "       0.99316261, 0.99325181, 0.99333887, 0.99342434, 0.99350706,\n",
       "       0.99358847, 0.99366881, 0.99374769, 0.99382574, 0.99390194,\n",
       "       0.99397503, 0.994045  , 0.99411433, 0.99418298, 0.99424981,\n",
       "       0.99431533, 0.99437997, 0.99444315, 0.99450384, 0.99456345,\n",
       "       0.99462138, 0.99467913, 0.99473517, 0.99479025, 0.99484501,\n",
       "       0.99489903, 0.99495194, 0.99500391, 0.99505536, 0.995106  ,\n",
       "       0.99515601, 0.99520489, 0.99525337, 0.99530106, 0.99534812,\n",
       "       0.99539491, 0.9954407 , 0.99548539, 0.99552949, 0.99557305,\n",
       "       0.99561612, 0.99565871, 0.99570025, 0.9957412 , 0.99578155,\n",
       "       0.99582117, 0.99585991, 0.9958982 , 0.9959359 , 0.99597323,\n",
       "       0.99601017, 0.99604671, 0.99608293, 0.99611888, 0.99615463,\n",
       "       0.99618931, 0.99622351, 0.99625752, 0.99629134, 0.99632436,\n",
       "       0.99635689, 0.99638897, 0.99642083, 0.9964522 , 0.99648324,\n",
       "       0.99651362, 0.99654383, 0.99657378, 0.99660345, 0.99663291,\n",
       "       0.99666205, 0.99669068, 0.99671896, 0.99674705, 0.99677489,\n",
       "       0.99680249, 0.99682993, 0.99685691, 0.99688383, 0.99691056,\n",
       "       0.99693695, 0.996963  , 0.99698875, 0.99701388, 0.99703869,\n",
       "       0.99706344, 0.99708777, 0.99711186, 0.9971356 , 0.9971592 ,\n",
       "       0.99718277, 0.99720605, 0.99722896, 0.99725181, 0.99727416,\n",
       "       0.99729631, 0.99731826, 0.99734012, 0.99736179, 0.997383  ,\n",
       "       0.99740407, 0.99742497, 0.99744566, 0.99746614, 0.99748647,\n",
       "       0.99750648, 0.99752634, 0.99754592, 0.99756537, 0.99758465,\n",
       "       0.99760358, 0.99762237, 0.99764088, 0.99765929, 0.99767762,\n",
       "       0.99769561, 0.99771352, 0.99773121, 0.9977488 , 0.99776634,\n",
       "       0.99778371, 0.99780091, 0.99781797, 0.99783482, 0.99785151,\n",
       "       0.99786818, 0.99788472, 0.99790113, 0.99791731, 0.99793344,\n",
       "       0.99794946, 0.99796533, 0.99798101, 0.9979966 , 0.99801213,\n",
       "       0.99802754, 0.99804274, 0.99805763, 0.99807244, 0.99808719,\n",
       "       0.99810187, 0.99811641, 0.99813085, 0.99814526, 0.9981596 ,\n",
       "       0.9981738 , 0.9981878 , 0.99820177, 0.99821552, 0.99822924,\n",
       "       0.99824283, 0.99825631, 0.99826974, 0.99828302, 0.99829625,\n",
       "       0.99830937, 0.99832238, 0.99833533, 0.99834816, 0.99836083,\n",
       "       0.99837338, 0.99838586, 0.99839828, 0.99841065, 0.99842287,\n",
       "       0.99843507, 0.99844715, 0.99845908, 0.99847094, 0.99848268,\n",
       "       0.99849438, 0.99850598, 0.99851755, 0.99852898, 0.99854038,\n",
       "       0.9985516 , 0.99856275, 0.99857382, 0.9985848 , 0.99859571,\n",
       "       0.99860659, 0.99861732, 0.99862801, 0.99863869, 0.99864936,\n",
       "       0.99865998, 0.99867037, 0.9986807 , 0.99869095, 0.99870114,\n",
       "       0.99871126, 0.99872127, 0.99873124, 0.99874114, 0.99875102,\n",
       "       0.99876082, 0.9987705 , 0.99878015, 0.99878971, 0.99879921,\n",
       "       0.99880863, 0.998818  , 0.99882734, 0.99883662, 0.99884587,\n",
       "       0.99885506, 0.99886415, 0.99887321, 0.99888221, 0.99889118,\n",
       "       0.99890003, 0.99890886, 0.99891762, 0.9989263 , 0.99893492,\n",
       "       0.9989435 , 0.99895205, 0.99896055, 0.99896902, 0.99897747,\n",
       "       0.9989858 , 0.99899412, 0.99900235, 0.99901055, 0.99901873,\n",
       "       0.99902688, 0.999035  , 0.99904301, 0.99905099, 0.99905892,\n",
       "       0.99906683, 0.99907466, 0.99908246, 0.99909023, 0.99909796,\n",
       "       0.99910564, 0.99911326, 0.99912085, 0.99912834, 0.9991358 ,\n",
       "       0.99914321, 0.99915059, 0.99915796, 0.99916525, 0.99917248,\n",
       "       0.99917967, 0.99918684, 0.99919396, 0.99920099, 0.99920802,\n",
       "       0.99921498, 0.99922192, 0.99922878, 0.9992356 , 0.9992424 ,\n",
       "       0.99924915, 0.99925586, 0.99926255, 0.99926922, 0.99927582,\n",
       "       0.99928241, 0.99928895, 0.99929546, 0.99930195, 0.9993084 ,\n",
       "       0.99931482, 0.99932122, 0.99932757, 0.99933387, 0.99934013,\n",
       "       0.99934636, 0.99935256, 0.9993587 , 0.9993648 , 0.99937089,\n",
       "       0.99937693, 0.99938294, 0.99938892, 0.99939487, 0.99940077,\n",
       "       0.99940666, 0.99941248, 0.9994183 , 0.99942408, 0.99942984,\n",
       "       0.99943559, 0.99944127, 0.9994469 , 0.9994525 , 0.99945807,\n",
       "       0.99946363, 0.99946914, 0.99947463, 0.99948009, 0.99948552,\n",
       "       0.99949095, 0.99949634, 0.99950171, 0.99950702, 0.99951232,\n",
       "       0.9995176 , 0.99952287, 0.99952809, 0.99953328, 0.99953844,\n",
       "       0.99954358, 0.99954867, 0.99955375, 0.99955881, 0.99956384,\n",
       "       0.99956883, 0.9995738 , 0.99957875, 0.99958365, 0.99958852,\n",
       "       0.99959336, 0.99959818, 0.99960298, 0.99960774, 0.99961247,\n",
       "       0.99961718, 0.99962188, 0.99962653, 0.99963116, 0.99963576,\n",
       "       0.99964035, 0.99964492, 0.99964944, 0.99965396, 0.99965842,\n",
       "       0.99966286, 0.99966728, 0.99967163, 0.99967596, 0.99968029,\n",
       "       0.99968459, 0.99968889, 0.99969315, 0.99969739, 0.99970161,\n",
       "       0.99970578, 0.99970991, 0.999714  , 0.99971806, 0.9997221 ,\n",
       "       0.99972611, 0.99973012, 0.99973411, 0.99973806, 0.99974197,\n",
       "       0.99974588, 0.99974977, 0.99975365, 0.99975752, 0.99976136,\n",
       "       0.99976516, 0.99976895, 0.99977271, 0.99977643, 0.99978014,\n",
       "       0.99978383, 0.99978748, 0.99979111, 0.99979474, 0.99979834,\n",
       "       0.99980192, 0.99980548, 0.99980901, 0.99981251, 0.999816  ,\n",
       "       0.99981947, 0.99982293, 0.9998263 , 0.99982966, 0.999833  ,\n",
       "       0.99983633, 0.99983963, 0.99984289, 0.99984613, 0.99984935,\n",
       "       0.99985252, 0.99985568, 0.99985882, 0.99986194, 0.99986502,\n",
       "       0.99986807, 0.99987111, 0.99987411, 0.99987709, 0.99988002,\n",
       "       0.99988292, 0.99988581, 0.99988866, 0.99989149, 0.9998943 ,\n",
       "       0.99989709, 0.99989986, 0.99990258, 0.99990526, 0.99990794,\n",
       "       0.99991056, 0.99991315, 0.99991573, 0.99991828, 0.99992082,\n",
       "       0.9999233 , 0.99992577, 0.99992819, 0.9999306 , 0.999933  ,\n",
       "       0.99993538, 0.99993771, 0.99993999, 0.99994227, 0.99994451,\n",
       "       0.99994674, 0.99994895, 0.99995114, 0.9999533 , 0.99995542,\n",
       "       0.99995752, 0.99995961, 0.99996165, 0.99996367, 0.99996564,\n",
       "       0.99996758, 0.99996948, 0.99997136, 0.99997319, 0.999975  ,\n",
       "       0.99997679, 0.99997851, 0.99998019, 0.99998183, 0.99998344,\n",
       "       0.99998502, 0.99998653, 0.999988  , 0.99998944, 0.99999083,\n",
       "       0.9999922 , 0.99999332, 0.99999437, 0.99999538, 0.99999633,\n",
       "       0.99999726, 0.99999803, 0.99999877, 0.99999949, 1.        ])"
      ]
     },
     "execution_count": 13,
     "metadata": {},
     "output_type": "execute_result"
    }
   ],
   "source": [
    "explained_variance[0:10]\n",
    "np.cumsum(explained_variance)"
   ]
  },
  {
   "cell_type": "code",
   "execution_count": 14,
   "metadata": {
    "ExecuteTime": {
     "end_time": "2020-06-08T06:25:31.445230Z",
     "start_time": "2020-06-08T06:25:31.219836Z"
    }
   },
   "outputs": [
    {
     "data": {
      "text/plain": [
       "[<matplotlib.lines.Line2D at 0x7fbc77ae9150>]"
      ]
     },
     "execution_count": 14,
     "metadata": {},
     "output_type": "execute_result"
    },
    {
     "data": {
      "image/png": "[encoded data removed]",
      "text/plain": [
       "<Figure size 432x288 with 1 Axes>"
      ]
     },
     "metadata": {
      "needs_background": "light"
     },
     "output_type": "display_data"
    }
   ],
   "source": [
    "from matplotlib import pyplot as plt\n",
    "plt.plot(explained_variance)"
   ]
  },
  {
   "cell_type": "code",
   "execution_count": 15,
   "metadata": {
    "ExecuteTime": {
     "end_time": "2020-06-08T06:25:32.001915Z",
     "start_time": "2020-06-08T06:25:31.447503Z"
    }
   },
   "outputs": [
    {
     "data": {
      "text/plain": [
       "[<matplotlib.lines.Line2D at 0x7fbc77bb6750>]"
      ]
     },
     "execution_count": 15,
     "metadata": {},
     "output_type": "execute_result"
    },
    {
     "data": {
      "image/png": "[encoded data removed]",
      "text/plain": [
       "<Figure size 432x288 with 1 Axes>"
      ]
     },
     "metadata": {
      "needs_background": "light"
     },
     "output_type": "display_data"
    }
   ],
   "source": [
    "plt.plot(pca_res[:,0],pca_res[:,1],'bo',markersize=1,alpha=0.3)\n"
   ]
  },
  {
   "cell_type": "code",
   "execution_count": 16,
   "metadata": {
    "ExecuteTime": {
     "end_time": "2020-06-08T06:25:32.578380Z",
     "start_time": "2020-06-08T06:25:32.003549Z"
    }
   },
   "outputs": [
    {
     "data": {
      "text/plain": [
       "[<matplotlib.lines.Line2D at 0x7fbc7741f090>]"
      ]
     },
     "execution_count": 16,
     "metadata": {},
     "output_type": "execute_result"
    },
    {
     "data": {
      "image/png": "[encoded data removed]",
      "text/plain": [
       "<Figure size 432x288 with 1 Axes>"
      ]
     },
     "metadata": {
      "needs_background": "light"
     },
     "output_type": "display_data"
    }
   ],
   "source": [
    "plt.plot(pca_res[:,1],pca_res[:,2],'bo',markersize=1,alpha=0.3)\n"
   ]
  },
  {
   "cell_type": "code",
   "execution_count": 17,
   "metadata": {
    "ExecuteTime": {
     "end_time": "2020-06-08T06:25:33.921912Z",
     "start_time": "2020-06-08T06:25:32.580927Z"
    }
   },
   "outputs": [],
   "source": [
    "from plotnine import * "
   ]
  },
  {
   "cell_type": "markdown",
   "metadata": {},
   "source": [
    "## We subset to 30 pc's "
   ]
  },
  {
   "cell_type": "code",
   "execution_count": null,
   "metadata": {
    "ExecuteTime": {
     "start_time": "2020-06-08T06:24:15.933Z"
    }
   },
   "outputs": [
    {
     "name": "stdout",
     "output_type": "stream",
     "text": [
      "(8000, 31)\n"
     ]
    }
   ],
   "source": [
    "for locus in loci: \n",
    "    gc_content=open(\"/mnt/lab_data2/annashch/locusselect_applications/compute_gc/gc.\"+locus+\".bed\",'r').read().strip().split('\\n')\n",
    "    gc_vals=np.expand_dims(np.asarray([float(i.split('\\t')[-1]) for i in gc_content]),axis=1)\n",
    "    #add gc column to embedding \n",
    "    pca_with_gc=np.concatenate((pca_res[locus_to_pos[locus][0]:locus_to_pos[locus][1],0:30],gc_vals),axis=1)\n",
    "    coords=all_bed_entries[locus_to_pos[locus][0]:locus_to_pos[locus][1]]\n",
    "    print(pca_with_gc.shape)\n",
    "    #save \n",
    "    np.savez_compressed(locus+\".H1ESC.DNASE.locus.bpnet.top30pcs.npz\",bed_entries=coords,embeddings=pca_with_gc)\n",
    "    pca_2d = umap.UMAP(random_state=42).fit_transform(pca_with_gc)\n",
    "    df_pca=pd.DataFrame.from_dict({'pca_2d_1':pca_2d[:,0],\n",
    "                              'pca_2d_2':pca_2d[:,1],\n",
    "                              'gc':gc_vals.squeeze()})\n",
    "    (ggplot(df_pca,aes(x='pca_2d_1', y='pca_2d_2',color='gc'))+\n",
    "       geom_point(size=1,alpha=0.3)+\n",
    "       ggtitle(locus+\", BPNET, Global Ave. Pool, H1ESC, DNASE, 30 PCs\")).save(locus+\".H1ESC.DNASE.locus.bpnet.top30pcs.png\",width=3,height=3,units='in',dpi=60)\n",
    "    \n",
    "    un_corrected_fc_embeddings_2d = umap.UMAP(random_state=42).fit_transform(all_embeddings[locus_to_pos[locus][0]:locus_to_pos[locus][1]])\n",
    "    df_fc=pd.DataFrame.from_dict({'un_corrected_fc_1':un_corrected_fc_embeddings_2d[:,0],\n",
    "                              'un_corrected_fc_2':un_corrected_fc_embeddings_2d[:,1],\n",
    "                              'gc':gc_vals.squeeze()})\n",
    "    (ggplot(df_fc,aes(x='un_corrected_fc_1', y='un_corrected_fc_2',color='gc'))+\n",
    "       geom_point(size=1,alpha=0.3)+\n",
    "       ggtitle(locus+\", BPNET, Global Ave. Pool, H1ESC, DNASE\")).save(locus+\".H1ESC.DNASE.locus.bpnet.png\",width=3,height=3,units='in',dpi=60)\n"
   ]
  },
  {
   "cell_type": "code",
   "execution_count": null,
   "metadata": {
    "ExecuteTime": {
     "start_time": "2020-06-08T06:24:16.194Z"
    }
   },
   "outputs": [],
   "source": [
    "model"
   ]
  },
  {
   "cell_type": "code",
   "execution_count": null,
   "metadata": {},
   "outputs": [],
   "source": [
    "from kerasAC.custom_losses import *\n",
    "from kerasAC.metrics import recall, specificity, fpr, fnr, precision, f1\n",
    "from keras.models import load_model\n",
    "import pdb\n",
    "custom_objects={\"recall\":recall,\n",
    "                \"sensitivity\":recall,\n",
    "                \"specificity\":specificity,\n",
    "                \"fpr\":fpr,\n",
    "                \"fnr\":fnr,\n",
    "                \"precision\":precision,\n",
    "                \"f1\":f1,\n",
    "                \"ambig_binary_crossentropy\":ambig_binary_crossentropy,\n",
    "                \"ambig_mean_absolute_error\":ambig_mean_absolute_error,\n",
    "                \"ambig_mean_squared_error\":ambig_mean_squared_error}\n",
    "model=load_model(model,custom_objects=custom_objects)\n"
   ]
  },
  {
   "cell_type": "code",
   "execution_count": null,
   "metadata": {},
   "outputs": [],
   "source": [
    "all_n=np.zeros((1,1,1000,4))\n",
    "n_gc=np.zeros((1,))"
   ]
  },
  {
   "cell_type": "code",
   "execution_count": null,
   "metadata": {},
   "outputs": [],
   "source": [
    "model.predict([all_n,n_gc])"
   ]
  },
  {
   "cell_type": "code",
   "execution_count": null,
   "metadata": {},
   "outputs": [],
   "source": []
  }
 ],
 "metadata": {
  "colab": {
   "include_colab_link": true,
   "name": "regression on 200 bp genome bins.ipynb",
   "provenance": [],
   "version": "0.3.2"
  },
  "kernelspec": {
   "display_name": "Python 3",
   "language": "python",
   "name": "python3"
  },
  "language_info": {
   "codemirror_mode": {
    "name": "ipython",
    "version": 3
   },
   "file_extension": ".py",
   "mimetype": "text/x-python",
   "name": "python",
   "nbconvert_exporter": "python",
   "pygments_lexer": "ipython3",
   "version": "3.7.6"
  }
 },
 "nbformat": 4,
 "nbformat_minor": 1
}
