{
 "cells": [
  {
   "cell_type": "markdown",
   "metadata": {
    "colab_type": "text",
    "id": "view-in-github"
   },
   "source": [
    "<a href=\"https://colab.research.google.com/github/kundajelab/locusselect/blob/master/examples/regression%20on%20200%20bp%20genome%20bins.ipynb\" target=\"_parent\"><img src=\"https://colab.research.google.com/assets/colab-badge.svg\" alt=\"Open In Colab\"/></a>"
   ]
  },
  {
   "cell_type": "code",
   "execution_count": 1,
   "metadata": {
    "ExecuteTime": {
     "end_time": "2020-06-08T06:21:28.711503Z",
     "start_time": "2020-06-08T06:21:27.293162Z"
    },
    "colab": {},
    "colab_type": "code",
    "id": "PlqtDJn5vLs4"
   },
   "outputs": [],
   "source": [
    "%reload_ext autoreload\n",
    "%autoreload 2\n",
    "%matplotlib inline\n",
    "import warnings\n",
    "warnings.filterwarnings('ignore')\n",
    "from numpy.random import seed\n",
    "seed(1234)\n",
    "import pandas as pd "
   ]
  },
  {
   "cell_type": "code",
   "execution_count": 2,
   "metadata": {
    "ExecuteTime": {
     "end_time": "2020-06-08T06:21:28.738093Z",
     "start_time": "2020-06-08T06:21:28.715640Z"
    },
    "colab": {},
    "colab_type": "code",
    "id": "_jFl7rUdvM8y"
   },
   "outputs": [],
   "source": [
    "#!pip install locusselect "
   ]
  },
  {
   "cell_type": "markdown",
   "metadata": {
    "colab_type": "text",
    "id": "eHfRoZoAvLs8"
   },
   "source": [
    "## H1ESC ATAC bpnet model, global average pooll, 500 filters "
   ]
  },
  {
   "cell_type": "code",
   "execution_count": 3,
   "metadata": {
    "ExecuteTime": {
     "end_time": "2020-06-08T06:21:36.253341Z",
     "start_time": "2020-06-08T06:21:28.740726Z"
    },
    "colab": {},
    "colab_type": "code",
    "id": "DpEc9JvVvLs8"
   },
   "outputs": [
    {
     "name": "stderr",
     "output_type": "stream",
     "text": [
      "Using TensorFlow backend.\n"
     ]
    }
   ],
   "source": [
    "## generate embeddings at the -2 layer \n",
    "import locusselect \n",
    "from locusselect.embeddings import * \n",
    "from locusselect.interpret import * \n",
    "from locusselect.utils import * \n",
    "from locusselect.gapped_kmers import * \n",
    "import numpy as np\n"
   ]
  },
  {
   "cell_type": "code",
   "execution_count": 5,
   "metadata": {
    "ExecuteTime": {
     "end_time": "2020-06-08T06:21:46.963240Z",
     "start_time": "2020-06-08T06:21:46.894250Z"
    }
   },
   "outputs": [
    {
     "data": {
      "text/plain": [
       "'\\nfor split in splits: \\n    fc_embedding_args={\"input_bed_file\":coord_prefix+\".\"+str(split),\\n                \"model_hdf5\":model_prefix+\".\"+str(0)+\".hdf5\",\\n                \"ref_fasta\":\"/users/annashch/male.hg19.fa\",\\n                \"center_on_summit\":True,\\n                \"center_on_bed_interval\":False,\\n                \"flank\":673,\\n                \"batch_size\":20,\\n                \"embedding_layer_name\":embedding_layer_name,\\n                \"embedding_input_name\":embedding_input_name,\\n                \"expand_dims\":False,\\n                \"threads\":20,\\n                \"output_npz_file\":str(split)+\".H1ESC.ATAC.all_peaks.bpnet.npz\"}\\n    fc_regions, fc_embeddings = compute_embeddings(fc_embedding_args)\\n'"
      ]
     },
     "execution_count": 5,
     "metadata": {},
     "output_type": "execute_result"
    }
   ],
   "source": [
    "#get embeddings for all overlap peaks \n",
    "splits=list(range(10))\n",
    "coord_prefix=\"/mnt/lab_data2/annashch/locusselect_applications/splits/h1esc_atac_overlap/h1esc.atac.optimal_peak.narrowPeak\"\n",
    "model_prefix=\"/srv/scratch/annashch/deeplearning/profile/h1esc_atac/baseline/h1esc.atac.seed.1234.cs.56.filters.500.naive.range.4.6.to.11.5\"\n",
    "embedding_layer_name=\"gap\"\n",
    "embedding_input_name=\"sequence\"\n",
    "'''\n",
    "for split in splits: \n",
    "    fc_embedding_args={\"input_bed_file\":coord_prefix+\".\"+str(split),\n",
    "                \"model_hdf5\":model_prefix+\".\"+str(0)+\".hdf5\",\n",
    "                \"ref_fasta\":\"/users/annashch/male.hg19.fa\",\n",
    "                \"center_on_summit\":True,\n",
    "                \"center_on_bed_interval\":False,\n",
    "                \"flank\":673,\n",
    "                \"batch_size\":20,\n",
    "                \"embedding_layer_name\":embedding_layer_name,\n",
    "                \"embedding_input_name\":embedding_input_name,\n",
    "                \"expand_dims\":False,\n",
    "                \"threads\":20,\n",
    "                \"output_npz_file\":str(split)+\".H1ESC.ATAC.all_peaks.bpnet.npz\"}\n",
    "    fc_regions, fc_embeddings = compute_embeddings(fc_embedding_args)\n",
    "'''"
   ]
  },
  {
   "cell_type": "code",
   "execution_count": 8,
   "metadata": {
    "ExecuteTime": {
     "end_time": "2020-06-08T06:22:30.098316Z",
     "start_time": "2020-06-08T06:22:29.774836Z"
    }
   },
   "outputs": [
    {
     "data": {
      "text/plain": [
       "'\\nfor index,row in loci_df.iterrows(): \\n    locus=row[0] \\n    split=row[1]\\n    coords=coord_prefix+locus+\".geneLocus.250bp.windows.hg19.bed\"\\n    #first, we get embeddings from the model fully connected layer \\n    fc_embedding_args={\"input_bed_file\":coords,\\n                   \"model_hdf5\":model_prefix+\".\"+str(0)+\".hdf5\",\\n                   \"ref_fasta\":\"/users/annashch/male.hg19.fa\",\\n                   \"center_on_summit\":True,\\n                   \"center_on_bed_interval\":False,\\n                   \"flank\":673,\\n                   \"embedding_layer_name\":embedding_layer_name,\\n                   \"embedding_input_name\":embedding_input_name,\\n                   \"expand_dims\":False,\\n                   \"threads\":20,\\n                   \"batch_size\":20,\\n                   \"output_npz_file\":locus+\".H1ESC.ATAC.locus.bpnet.npz\"}\\n    fc_regions, fc_embeddings = compute_embeddings(fc_embedding_args)\\n'"
      ]
     },
     "execution_count": 8,
     "metadata": {},
     "output_type": "execute_result"
    }
   ],
   "source": [
    "## get the loci embeddings \n",
    "coord_prefix=\"/mnt/lab_data2/annashch/locusselect_applications/coordinates/H1ESC_PROXY_FOR_WTC11/\"\n",
    "loci_df=pd.read_csv(\"/mnt/lab_data2/annashch/locusselect_applications/coordinates/H1ESC_PROXY_FOR_WTC11/gene_to_fold.geneLocus.250bp.windows.hg19.bed\",header=None,sep='\\t')\n",
    "'''\n",
    "for index,row in loci_df.iterrows(): \n",
    "    locus=row[0] \n",
    "    split=row[1]\n",
    "    coords=coord_prefix+locus+\".geneLocus.250bp.windows.hg19.bed\"\n",
    "    #first, we get embeddings from the model fully connected layer \n",
    "    fc_embedding_args={\"input_bed_file\":coords,\n",
    "                   \"model_hdf5\":model_prefix+\".\"+str(0)+\".hdf5\",\n",
    "                   \"ref_fasta\":\"/users/annashch/male.hg19.fa\",\n",
    "                   \"center_on_summit\":True,\n",
    "                   \"center_on_bed_interval\":False,\n",
    "                   \"flank\":673,\n",
    "                   \"embedding_layer_name\":embedding_layer_name,\n",
    "                   \"embedding_input_name\":embedding_input_name,\n",
    "                   \"expand_dims\":False,\n",
    "                   \"threads\":20,\n",
    "                   \"batch_size\":20,\n",
    "                   \"output_npz_file\":locus+\".H1ESC.ATAC.locus.bpnet.npz\"}\n",
    "    fc_regions, fc_embeddings = compute_embeddings(fc_embedding_args)\n",
    "'''"
   ]
  },
  {
   "cell_type": "code",
   "execution_count": 9,
   "metadata": {
    "ExecuteTime": {
     "end_time": "2020-06-08T06:23:12.521105Z",
     "start_time": "2020-06-08T06:22:37.246577Z"
    }
   },
   "outputs": [],
   "source": [
    "#combine the loci embeddings into a single data frame \n",
    "all_embeddings=None\n",
    "all_bed_entries=None\n",
    "locus_to_pos={}\n",
    "locus_suffix=\".H1ESC.ATAC.locus.bpnet.npz\"\n",
    "loci=list(loci_df[0])\n",
    "\n",
    "last_index=0\n",
    "for locus in loci: \n",
    "    cur_embedding_data=np.load(locus+locus_suffix,allow_pickle=True)\n",
    "    cur_bed_entries=cur_embedding_data['bed_entries']\n",
    "    cur_embeddings=cur_embedding_data['embeddings']\n",
    "    if all_embeddings is None: \n",
    "        all_embeddings=cur_embeddings \n",
    "        all_bed_entries=cur_bed_entries\n",
    "    else: \n",
    "        all_embeddings=np.concatenate((all_embeddings,cur_embeddings),axis=0)\n",
    "        all_bed_entries=np.concatenate((all_bed_entries,cur_bed_entries),axis=0)\n",
    "    start_pos=last_index \n",
    "    end_pos=last_index+cur_embeddings.shape[0]\n",
    "    last_index=end_pos \n",
    "    locus_to_pos[locus]=[start_pos,end_pos]\n"
   ]
  },
  {
   "cell_type": "code",
   "execution_count": 10,
   "metadata": {
    "ExecuteTime": {
     "end_time": "2020-06-08T06:23:12.602489Z",
     "start_time": "2020-06-08T06:23:12.524069Z"
    }
   },
   "outputs": [
    {
     "data": {
      "text/plain": [
       "(675308, 500)"
      ]
     },
     "execution_count": 10,
     "metadata": {},
     "output_type": "execute_result"
    }
   ],
   "source": [
    "all_embeddings.shape"
   ]
  },
  {
   "cell_type": "code",
   "execution_count": 11,
   "metadata": {
    "ExecuteTime": {
     "end_time": "2020-06-08T06:23:19.729655Z",
     "start_time": "2020-06-08T06:23:12.605102Z"
    }
   },
   "outputs": [],
   "source": [
    "#augment with all peak embeddings \n",
    "splits=list(range(10))\n",
    "\n",
    "for split in splits: \n",
    "    cur_embeddings_data=np.load(str(split)+\".H1ESC.ATAC.all_peaks.bpnet.npz\",allow_pickle=True)\n",
    "    cur_bed_entries=cur_embedding_data['bed_entries']\n",
    "    cur_embeddings=cur_embedding_data['embeddings']\n",
    "    all_embeddings=np.concatenate((all_embeddings,cur_embeddings),axis=0)\n",
    "    all_bed_entries=np.concatenate((all_bed_entries,cur_bed_entries),axis=0)"
   ]
  },
  {
   "cell_type": "code",
   "execution_count": 12,
   "metadata": {
    "ExecuteTime": {
     "end_time": "2020-06-08T06:23:19.786569Z",
     "start_time": "2020-06-08T06:23:19.732283Z"
    }
   },
   "outputs": [
    {
     "data": {
      "text/plain": [
       "(755308,)"
      ]
     },
     "execution_count": 12,
     "metadata": {},
     "output_type": "execute_result"
    }
   ],
   "source": [
    "all_bed_entries.shape"
   ]
  },
  {
   "cell_type": "code",
   "execution_count": 13,
   "metadata": {
    "ExecuteTime": {
     "end_time": "2020-06-08T06:23:19.840437Z",
     "start_time": "2020-06-08T06:23:19.788625Z"
    }
   },
   "outputs": [
    {
     "data": {
      "text/plain": [
       "(755308, 500)"
      ]
     },
     "execution_count": 13,
     "metadata": {},
     "output_type": "execute_result"
    }
   ],
   "source": [
    "all_embeddings.shape"
   ]
  },
  {
   "cell_type": "code",
   "execution_count": 14,
   "metadata": {
    "ExecuteTime": {
     "end_time": "2020-06-08T06:23:22.934416Z",
     "start_time": "2020-06-08T06:23:19.842238Z"
    }
   },
   "outputs": [],
   "source": [
    "# run PCA on the embeddings \n",
    "# Dimension reduction and clustering libraries\n",
    "import umap\n",
    "import hdbscan\n",
    "import sklearn.cluster as cluster\n",
    "from sklearn.metrics import adjusted_rand_score, adjusted_mutual_info_score\n"
   ]
  },
  {
   "cell_type": "code",
   "execution_count": 15,
   "metadata": {
    "ExecuteTime": {
     "end_time": "2020-06-08T06:23:53.910673Z",
     "start_time": "2020-06-08T06:23:22.937309Z"
    }
   },
   "outputs": [],
   "source": [
    "from sklearn.decomposition import PCA \n",
    "  \n",
    "pca = PCA(n_components = 500) \n",
    "  \n",
    "pca_res = pca.fit_transform(all_embeddings)   \n",
    "explained_variance = pca.explained_variance_ratio_ # verify that the PCA embeddings have same UMAP projection as original embeddings. "
   ]
  },
  {
   "cell_type": "code",
   "execution_count": 16,
   "metadata": {
    "ExecuteTime": {
     "end_time": "2020-06-08T06:23:54.521700Z",
     "start_time": "2020-06-08T06:23:53.914631Z"
    }
   },
   "outputs": [
    {
     "data": {
      "text/plain": [
       "array([0.51649087, 0.79474425, 0.85772828, 0.90691117, 0.92707418,\n",
       "       0.94201011, 0.95110245, 0.95836084, 0.9642039 , 0.96850653,\n",
       "       0.97175559, 0.9739176 , 0.97568556, 0.97723223, 0.9787094 ,\n",
       "       0.97997886, 0.98102382, 0.98182721, 0.98256495, 0.98324555,\n",
       "       0.98383993, 0.98439715, 0.98494032, 0.98545036, 0.98591483,\n",
       "       0.98632665, 0.98672445, 0.98706799, 0.9874073 , 0.98771633,\n",
       "       0.98800558, 0.98829089, 0.98856416, 0.98882405, 0.98905871,\n",
       "       0.98927748, 0.98947954, 0.98967792, 0.98987006, 0.9900564 ,\n",
       "       0.99023526, 0.99040579, 0.99057133, 0.99073272, 0.99088824,\n",
       "       0.99103569, 0.99117904, 0.99131852, 0.99145726, 0.99158547,\n",
       "       0.99171226, 0.99183662, 0.99195832, 0.99207695, 0.99219104,\n",
       "       0.99230365, 0.99240963, 0.99251308, 0.99261587, 0.99271508,\n",
       "       0.99281074, 0.99290384, 0.99299489, 0.99308447, 0.99317283,\n",
       "       0.99325623, 0.99333754, 0.99341807, 0.99349631, 0.99357232,\n",
       "       0.99364656, 0.99371921, 0.99378985, 0.99386014, 0.99392987,\n",
       "       0.99399762, 0.99406482, 0.99413075, 0.99419465, 0.99425744,\n",
       "       0.99431939, 0.99438032, 0.99444008, 0.99449868, 0.9945566 ,\n",
       "       0.99461271, 0.99466842, 0.99472251, 0.99477579, 0.99482784,\n",
       "       0.99487933, 0.99493015, 0.99498033, 0.99502969, 0.99507784,\n",
       "       0.99512567, 0.99517217, 0.99521807, 0.99526366, 0.99530847,\n",
       "       0.99535283, 0.99539707, 0.99544038, 0.99548359, 0.99552609,\n",
       "       0.9955679 , 0.99560936, 0.99564959, 0.99568942, 0.99572864,\n",
       "       0.99576755, 0.99580609, 0.99584431, 0.99588176, 0.99591886,\n",
       "       0.99595583, 0.99599233, 0.99602845, 0.99606356, 0.99609817,\n",
       "       0.99613249, 0.99616657, 0.99620033, 0.99623367, 0.99626627,\n",
       "       0.99629855, 0.9963307 , 0.9963623 , 0.99639362, 0.99642457,\n",
       "       0.99645523, 0.99648535, 0.99651533, 0.99654507, 0.99657455,\n",
       "       0.99660329, 0.99663184, 0.99666014, 0.99668837, 0.99671597,\n",
       "       0.99674333, 0.99677058, 0.99679763, 0.99682428, 0.99685029,\n",
       "       0.99687622, 0.99690181, 0.99692728, 0.99695234, 0.9969773 ,\n",
       "       0.99700178, 0.99702605, 0.99705006, 0.99707386, 0.99709763,\n",
       "       0.99712115, 0.99714464, 0.9971678 , 0.99719063, 0.99721328,\n",
       "       0.99723575, 0.99725797, 0.99727987, 0.99730153, 0.99732311,\n",
       "       0.99734441, 0.99736564, 0.99738673, 0.99740772, 0.99742848,\n",
       "       0.99744898, 0.99746933, 0.99748952, 0.99750944, 0.99752904,\n",
       "       0.99754844, 0.99756771, 0.99758695, 0.99760608, 0.9976251 ,\n",
       "       0.9976439 , 0.99766252, 0.99768104, 0.99769946, 0.9977176 ,\n",
       "       0.99773556, 0.99775332, 0.99777094, 0.9977885 , 0.99780598,\n",
       "       0.99782332, 0.99784049, 0.99785761, 0.99787467, 0.99789149,\n",
       "       0.99790817, 0.99792457, 0.9979409 , 0.99795716, 0.99797327,\n",
       "       0.9979893 , 0.99800521, 0.99802097, 0.99803669, 0.99805217,\n",
       "       0.99806755, 0.99808281, 0.99809796, 0.99811299, 0.99812801,\n",
       "       0.99814288, 0.9981576 , 0.99817219, 0.99818665, 0.99820106,\n",
       "       0.9982154 , 0.99822956, 0.99824366, 0.99825769, 0.99827169,\n",
       "       0.99828558, 0.99829938, 0.99831304, 0.99832657, 0.99833997,\n",
       "       0.99835328, 0.99836652, 0.99837969, 0.99839271, 0.99840566,\n",
       "       0.9984186 , 0.99843144, 0.99844417, 0.99845678, 0.99846933,\n",
       "       0.99848176, 0.99849417, 0.99850648, 0.99851874, 0.99853089,\n",
       "       0.99854296, 0.99855497, 0.99856686, 0.99857873, 0.99859052,\n",
       "       0.99860224, 0.99861391, 0.99862556, 0.99863705, 0.99864845,\n",
       "       0.99865976, 0.99867101, 0.99868221, 0.99869335, 0.99870443,\n",
       "       0.99871543, 0.99872635, 0.99873723, 0.99874808, 0.9987588 ,\n",
       "       0.99876947, 0.99878008, 0.99879065, 0.99880111, 0.9988115 ,\n",
       "       0.99882183, 0.99883214, 0.99884232, 0.99885245, 0.99886256,\n",
       "       0.99887257, 0.9988825 , 0.99889239, 0.99890222, 0.99891199,\n",
       "       0.99892169, 0.99893129, 0.99894089, 0.99895041, 0.99895986,\n",
       "       0.99896926, 0.99897861, 0.99898792, 0.99899719, 0.99900638,\n",
       "       0.99901552, 0.99902461, 0.99903365, 0.99904267, 0.99905158,\n",
       "       0.99906046, 0.99906926, 0.99907805, 0.99908679, 0.99909545,\n",
       "       0.99910409, 0.99911265, 0.99912117, 0.99912967, 0.99913813,\n",
       "       0.99914656, 0.9991549 , 0.99916315, 0.99917139, 0.9991796 ,\n",
       "       0.99918775, 0.99919582, 0.99920379, 0.99921173, 0.99921963,\n",
       "       0.99922748, 0.99923531, 0.99924309, 0.99925086, 0.99925855,\n",
       "       0.99926622, 0.99927381, 0.99928136, 0.99928889, 0.99929635,\n",
       "       0.99930377, 0.99931112, 0.99931844, 0.99932574, 0.99933295,\n",
       "       0.99934013, 0.99934722, 0.99935427, 0.99936128, 0.99936827,\n",
       "       0.9993752 , 0.9993821 , 0.99938895, 0.99939577, 0.99940254,\n",
       "       0.99940925, 0.99941589, 0.99942251, 0.99942909, 0.99943566,\n",
       "       0.9994422 , 0.99944871, 0.99945519, 0.99946159, 0.99946797,\n",
       "       0.99947425, 0.9994805 , 0.99948671, 0.99949288, 0.99949905,\n",
       "       0.99950511, 0.99951115, 0.99951717, 0.99952316, 0.9995291 ,\n",
       "       0.99953498, 0.99954082, 0.99954664, 0.99955242, 0.99955817,\n",
       "       0.99956384, 0.99956947, 0.99957505, 0.99958058, 0.99958606,\n",
       "       0.99959152, 0.99959695, 0.99960232, 0.99960767, 0.99961299,\n",
       "       0.99961827, 0.99962351, 0.99962871, 0.99963389, 0.99963903,\n",
       "       0.99964411, 0.99964913, 0.99965412, 0.99965908, 0.99966402,\n",
       "       0.99966893, 0.99967381, 0.9996786 , 0.99968337, 0.99968812,\n",
       "       0.99969281, 0.99969747, 0.99970209, 0.99970668, 0.99971125,\n",
       "       0.99971581, 0.9997203 , 0.99972475, 0.99972919, 0.99973357,\n",
       "       0.9997379 , 0.99974222, 0.99974651, 0.99975076, 0.99975499,\n",
       "       0.99975914, 0.99976327, 0.99976736, 0.99977141, 0.99977546,\n",
       "       0.99977947, 0.99978347, 0.99978738, 0.99979129, 0.99979514,\n",
       "       0.99979898, 0.99980276, 0.9998065 , 0.99981022, 0.99981389,\n",
       "       0.99981752, 0.9998211 , 0.99982466, 0.9998282 , 0.99983167,\n",
       "       0.99983512, 0.99983852, 0.99984189, 0.99984523, 0.99984855,\n",
       "       0.99985181, 0.99985506, 0.99985828, 0.99986147, 0.99986462,\n",
       "       0.99986773, 0.99987082, 0.99987391, 0.99987697, 0.99987999,\n",
       "       0.99988296, 0.99988587, 0.99988875, 0.9998916 , 0.99989442,\n",
       "       0.9998972 , 0.99989993, 0.99990265, 0.99990531, 0.99990794,\n",
       "       0.99991053, 0.99991311, 0.99991567, 0.99991822, 0.99992072,\n",
       "       0.99992317, 0.9999256 , 0.99992801, 0.99993037, 0.99993271,\n",
       "       0.99993503, 0.99993729, 0.99993954, 0.99994172, 0.99994388,\n",
       "       0.99994602, 0.99994815, 0.99995024, 0.9999523 , 0.99995435,\n",
       "       0.99995638, 0.99995838, 0.99996036, 0.99996233, 0.99996425,\n",
       "       0.99996616, 0.99996802, 0.99996986, 0.99997167, 0.99997349,\n",
       "       0.99997523, 0.99997694, 0.99997865, 0.99998028, 0.99998187,\n",
       "       0.99998342, 0.9999849 , 0.99998632, 0.99998774, 0.9999891 ,\n",
       "       0.99999036, 0.99999152, 0.99999258, 0.99999361, 0.99999457,\n",
       "       0.99999553, 0.99999643, 0.99999724, 0.99999787, 0.99999849,\n",
       "       0.99999901, 0.99999939, 0.99999965, 0.99999988, 1.        ])"
      ]
     },
     "execution_count": 16,
     "metadata": {},
     "output_type": "execute_result"
    }
   ],
   "source": [
    "explained_variance[0:10]\n",
    "np.cumsum(explained_variance)"
   ]
  },
  {
   "cell_type": "code",
   "execution_count": 17,
   "metadata": {
    "ExecuteTime": {
     "end_time": "2020-06-08T06:23:54.775317Z",
     "start_time": "2020-06-08T06:23:54.524818Z"
    }
   },
   "outputs": [
    {
     "data": {
      "text/plain": [
       "[<matplotlib.lines.Line2D at 0x7fda12063c50>]"
      ]
     },
     "execution_count": 17,
     "metadata": {},
     "output_type": "execute_result"
    },
    {
     "data": {
      "image/png": "[encoded data removed]",
      "text/plain": [
       "<Figure size 432x288 with 1 Axes>"
      ]
     },
     "metadata": {
      "needs_background": "light"
     },
     "output_type": "display_data"
    }
   ],
   "source": [
    "from matplotlib import pyplot as plt\n",
    "plt.plot(explained_variance)"
   ]
  },
  {
   "cell_type": "code",
   "execution_count": 18,
   "metadata": {
    "ExecuteTime": {
     "end_time": "2020-06-08T06:23:55.334020Z",
     "start_time": "2020-06-08T06:23:54.777695Z"
    }
   },
   "outputs": [
    {
     "data": {
      "text/plain": [
       "[<matplotlib.lines.Line2D at 0x7fda11c29910>]"
      ]
     },
     "execution_count": 18,
     "metadata": {},
     "output_type": "execute_result"
    },
    {
     "data": {
      "image/png": "[encoded data removed]",
      "text/plain": [
       "<Figure size 432x288 with 1 Axes>"
      ]
     },
     "metadata": {
      "needs_background": "light"
     },
     "output_type": "display_data"
    }
   ],
   "source": [
    "plt.plot(pca_res[:,0],pca_res[:,1],'bo',markersize=1,alpha=0.3)\n"
   ]
  },
  {
   "cell_type": "code",
   "execution_count": 19,
   "metadata": {
    "ExecuteTime": {
     "end_time": "2020-06-08T06:23:55.900795Z",
     "start_time": "2020-06-08T06:23:55.336528Z"
    }
   },
   "outputs": [
    {
     "data": {
      "text/plain": [
       "[<matplotlib.lines.Line2D at 0x7fda12078e10>]"
      ]
     },
     "execution_count": 19,
     "metadata": {},
     "output_type": "execute_result"
    },
    {
     "data": {
      "image/png": "[encoded data removed]",
      "text/plain": [
       "<Figure size 432x288 with 1 Axes>"
      ]
     },
     "metadata": {
      "needs_background": "light"
     },
     "output_type": "display_data"
    }
   ],
   "source": [
    "plt.plot(pca_res[:,1],pca_res[:,2],'bo',markersize=1,alpha=0.3)\n"
   ]
  },
  {
   "cell_type": "code",
   "execution_count": 20,
   "metadata": {
    "ExecuteTime": {
     "end_time": "2020-06-08T06:23:57.277035Z",
     "start_time": "2020-06-08T06:23:55.903312Z"
    }
   },
   "outputs": [],
   "source": [
    "from plotnine import * "
   ]
  },
  {
   "cell_type": "markdown",
   "metadata": {},
   "source": [
    "## We subset to 40 pc's "
   ]
  },
  {
   "cell_type": "code",
   "execution_count": 21,
   "metadata": {
    "ExecuteTime": {
     "end_time": "2020-06-08T06:23:57.351728Z",
     "start_time": "2020-06-08T06:23:57.280636Z"
    }
   },
   "outputs": [
    {
     "data": {
      "text/plain": [
       "'OPRD1'"
      ]
     },
     "execution_count": 21,
     "metadata": {},
     "output_type": "execute_result"
    }
   ],
   "source": [
    "loci[0]"
   ]
  },
  {
   "cell_type": "code",
   "execution_count": null,
   "metadata": {
    "ExecuteTime": {
     "start_time": "2020-06-08T06:22:41.306Z"
    }
   },
   "outputs": [
    {
     "name": "stdout",
     "output_type": "stream",
     "text": [
      "(8000, 41)\n",
      "(8000, 41)\n",
      "(8000, 41)\n"
     ]
    }
   ],
   "source": [
    "for locus in loci: \n",
    "    gc_content=open(\"/mnt/lab_data2/annashch/locusselect_applications/compute_gc/gc.\"+locus+\".bed\",'r').read().strip().split('\\n')\n",
    "    gc_vals=np.expand_dims(np.asarray([float(i.split('\\t')[-1]) for i in gc_content]),axis=1)\n",
    "    #add gc column to embedding \n",
    "    pca_with_gc=np.concatenate((pca_res[locus_to_pos[locus][0]:locus_to_pos[locus][1],0:40],gc_vals),axis=1)\n",
    "    coords=all_bed_entries[locus_to_pos[locus][0]:locus_to_pos[locus][1]]\n",
    "    print(pca_with_gc.shape)\n",
    "    #save \n",
    "    np.savez_compressed(locus+\".H1ESC.ATAC.locus.bpnet.top40pcs.npz\",bed_entries=coords,embeddings=pca_with_gc)\n",
    "    \n",
    "    pca_2d = umap.UMAP(random_state=42).fit_transform(pca_with_gc)\n",
    "    df_pca=pd.DataFrame.from_dict({'pca_2d_1':pca_2d[:,0],\n",
    "                              'pca_2d_2':pca_2d[:,1],\n",
    "                              'gc':gc_vals.squeeze()})\n",
    "    (ggplot(df_pca,aes(x='pca_2d_1', y='pca_2d_2',color='gc'))+\n",
    "       geom_point(size=1,alpha=0.3)+\n",
    "       ggtitle(locus+\",BPNET, Global Ave. Pool, H1ESC, DNASE, 40 PCs\")).save(filename=locus+\".H1ESC.ATAC.locus.bpnet.top40pcs.png\",width=3,height=3,units='in',dpi=60)\n",
    "    \n",
    "    un_corrected_fc_embeddings_2d = umap.UMAP(random_state=42).fit_transform(all_embeddings[locus_to_pos[locus][0]:locus_to_pos[locus][1]])\n",
    "\n",
    "    df_fc=pd.DataFrame.from_dict({'un_corrected_fc_1':un_corrected_fc_embeddings_2d[:,0],\n",
    "                              'un_corrected_fc_2':un_corrected_fc_embeddings_2d[:,1],\n",
    "                              'gc':gc_vals.squeeze()})\n",
    "    (ggplot(df_fc,aes(x='un_corrected_fc_1', y='un_corrected_fc_2',color='gc'))+\n",
    "       geom_point(size=1,alpha=0.3)+\n",
    "       ggtitle(locus+\", BPNET, Global Ave. Pool, H1ESC, DNASE\")).save(filename=locus+\".H1ESC.ATAC.locus.bpnet.png\",width=3,height=3,units='in',dpi=60)\n"
   ]
  },
  {
   "cell_type": "code",
   "execution_count": null,
   "metadata": {
    "ExecuteTime": {
     "start_time": "2020-06-08T06:22:41.525Z"
    }
   },
   "outputs": [],
   "source": [
    "model"
   ]
  },
  {
   "cell_type": "code",
   "execution_count": null,
   "metadata": {
    "ExecuteTime": {
     "start_time": "2020-06-08T06:22:41.816Z"
    }
   },
   "outputs": [],
   "source": [
    "from kerasAC.custom_losses import *\n",
    "from kerasAC.metrics import recall, specificity, fpr, fnr, precision, f1\n",
    "from keras.models import load_model\n",
    "import pdb\n",
    "custom_objects={\"recall\":recall,\n",
    "                \"sensitivity\":recall,\n",
    "                \"specificity\":specificity,\n",
    "                \"fpr\":fpr,\n",
    "                \"fnr\":fnr,\n",
    "                \"precision\":precision,\n",
    "                \"f1\":f1,\n",
    "                \"ambig_binary_crossentropy\":ambig_binary_crossentropy,\n",
    "                \"ambig_mean_absolute_error\":ambig_mean_absolute_error,\n",
    "                \"ambig_mean_squared_error\":ambig_mean_squared_error}\n",
    "model=load_model(model,custom_objects=custom_objects)\n"
   ]
  },
  {
   "cell_type": "code",
   "execution_count": null,
   "metadata": {
    "ExecuteTime": {
     "start_time": "2020-06-08T06:22:42.044Z"
    }
   },
   "outputs": [],
   "source": [
    "all_n=np.zeros((1,1,1000,4))\n",
    "n_gc=np.zeros((1,))"
   ]
  },
  {
   "cell_type": "code",
   "execution_count": null,
   "metadata": {},
   "outputs": [],
   "source": [
    "model.predict([all_n,n_gc])"
   ]
  },
  {
   "cell_type": "code",
   "execution_count": null,
   "metadata": {},
   "outputs": [],
   "source": []
  }
 ],
 "metadata": {
  "colab": {
   "include_colab_link": true,
   "name": "regression on 200 bp genome bins.ipynb",
   "provenance": [],
   "version": "0.3.2"
  },
  "kernelspec": {
   "display_name": "Python 3",
   "language": "python",
   "name": "python3"
  },
  "language_info": {
   "codemirror_mode": {
    "name": "ipython",
    "version": 3
   },
   "file_extension": ".py",
   "mimetype": "text/x-python",
   "name": "python",
   "nbconvert_exporter": "python",
   "pygments_lexer": "ipython3",
   "version": "3.7.6"
  }
 },
 "nbformat": 4,
 "nbformat_minor": 1
}
