{
 "cells": [
  {
   "cell_type": "markdown",
   "metadata": {
    "colab_type": "text",
    "id": "view-in-github"
   },
   "source": [
    "<a href=\"https://colab.research.google.com/github/kundajelab/locusselect/blob/master/examples/regression%20on%20200%20bp%20genome%20bins.ipynb\" target=\"_parent\"><img src=\"https://colab.research.google.com/assets/colab-badge.svg\" alt=\"Open In Colab\"/></a>"
   ]
  },
  {
   "cell_type": "code",
   "execution_count": 1,
   "metadata": {
    "ExecuteTime": {
     "end_time": "2020-06-08T06:25:31.015128Z",
     "start_time": "2020-06-08T06:25:29.699720Z"
    },
    "colab": {},
    "colab_type": "code",
    "id": "PlqtDJn5vLs4"
   },
   "outputs": [],
   "source": [
    "%reload_ext autoreload\n",
    "%autoreload 2\n",
    "%matplotlib inline\n",
    "import warnings\n",
    "warnings.filterwarnings('ignore')\n",
    "from numpy.random import seed\n",
    "seed(1234)\n",
    "import pandas as pd "
   ]
  },
  {
   "cell_type": "code",
   "execution_count": 2,
   "metadata": {
    "ExecuteTime": {
     "end_time": "2020-06-08T06:25:31.041343Z",
     "start_time": "2020-06-08T06:25:31.019092Z"
    },
    "colab": {},
    "colab_type": "code",
    "id": "_jFl7rUdvM8y"
   },
   "outputs": [],
   "source": [
    "#!pip install locusselect "
   ]
  },
  {
   "cell_type": "markdown",
   "metadata": {
    "colab_type": "text",
    "id": "eHfRoZoAvLs8"
   },
   "source": [
    "## DNASE K562 bpnet model, global average pooll, 500 filters "
   ]
  },
  {
   "cell_type": "code",
   "execution_count": 3,
   "metadata": {
    "ExecuteTime": {
     "end_time": "2020-06-08T06:25:37.397211Z",
     "start_time": "2020-06-08T06:25:31.043364Z"
    },
    "colab": {},
    "colab_type": "code",
    "id": "DpEc9JvVvLs8"
   },
   "outputs": [
    {
     "name": "stderr",
     "output_type": "stream",
     "text": [
      "Using TensorFlow backend.\n"
     ]
    }
   ],
   "source": [
    "## generate embeddings at the -2 layer \n",
    "import locusselect \n",
    "from locusselect.embeddings import * \n",
    "from locusselect.interpret import * \n",
    "from locusselect.utils import * \n",
    "from locusselect.gapped_kmers import * \n",
    "import numpy as np\n"
   ]
  },
  {
   "cell_type": "code",
   "execution_count": 4,
   "metadata": {
    "ExecuteTime": {
     "end_time": "2020-06-08T06:25:41.792189Z",
     "start_time": "2020-06-08T06:25:41.702483Z"
    }
   },
   "outputs": [
    {
     "data": {
      "text/plain": [
       "'\\nfor split in splits: \\n    fc_embedding_args={\"input_bed_file\":coord_prefix+\".\"+str(split),\\n                \"model_hdf5\":model_prefix+\".\"+str(0)+\".hdf5\",\\n                \"ref_fasta\":\"/users/annashch/male.hg19.fa\",\\n                \"center_on_summit\":True,\\n                \"center_on_bed_interval\":False,\\n                \"flank\":673,\\n                \"batch_size\":20,\\n                \"embedding_layer_name\":embedding_layer_name,\\n                \"embedding_input_name\":embedding_input_name,\\n                \"expand_dims\":False,\\n                \"threads\":20,\\n                \"output_npz_file\":str(split)+\".K562.DNASE.all_peaks.bpnet.npz\"}\\n    fc_regions, fc_embeddings = compute_embeddings(fc_embedding_args)\\n'"
      ]
     },
     "execution_count": 4,
     "metadata": {},
     "output_type": "execute_result"
    }
   ],
   "source": [
    "#get embeddings for all overlap peaks \n",
    "splits=list(range(10))\n",
    "coord_prefix=\"/mnt/lab_data2/annashch/locusselect_applications/splits/k562_dnase_overlap/k562.dnase.optimal_peak.narrowPeak\"\n",
    "model_prefix=\"/srv/scratch/annashch/deeplearning/profile/k562_dnase/bpnet/seed.1234.cw.250.filters.500.naive.range.4.6.to.11.5/K562.profile.peaks.only.bpnet.withdups.1234seed.250counts\"\n",
    "embedding_layer_name=\"gap\"\n",
    "embedding_input_name=\"sequence\"\n",
    "'''\n",
    "for split in splits: \n",
    "    fc_embedding_args={\"input_bed_file\":coord_prefix+\".\"+str(split),\n",
    "                \"model_hdf5\":model_prefix+\".\"+str(0)+\".hdf5\",\n",
    "                \"ref_fasta\":\"/users/annashch/male.hg19.fa\",\n",
    "                \"center_on_summit\":True,\n",
    "                \"center_on_bed_interval\":False,\n",
    "                \"flank\":673,\n",
    "                \"batch_size\":20,\n",
    "                \"embedding_layer_name\":embedding_layer_name,\n",
    "                \"embedding_input_name\":embedding_input_name,\n",
    "                \"expand_dims\":False,\n",
    "                \"threads\":20,\n",
    "                \"output_npz_file\":str(split)+\".K562.DNASE.all_peaks.bpnet.npz\"}\n",
    "    fc_regions, fc_embeddings = compute_embeddings(fc_embedding_args)\n",
    "'''"
   ]
  },
  {
   "cell_type": "code",
   "execution_count": 5,
   "metadata": {
    "ExecuteTime": {
     "end_time": "2020-06-08T06:25:51.675610Z",
     "start_time": "2020-06-08T06:25:51.449400Z"
    }
   },
   "outputs": [
    {
     "data": {
      "text/plain": [
       "'\\nfor index,row in loci_df.iterrows(): \\n    locus=row[0] \\n    split=row[1]\\n    coords=coord_prefix+locus+\".geneLocus.250bp.windows.hg19.bed\"\\n    #first, we get embeddings from the model fully connected layer \\n    fc_embedding_args={\"input_bed_file\":coords,\\n                   \"model_hdf5\":model_prefix+\".\"+str(0)+\".hdf5\",\\n                   \"ref_fasta\":\"/users/annashch/male.hg19.fa\",\\n                   \"center_on_summit\":True,\\n                   \"center_on_bed_interval\":False,\\n                   \"flank\":673,\\n                   \"embedding_layer_name\":embedding_layer_name,\\n                   \"embedding_input_name\":embedding_input_name,\\n                   \"expand_dims\":False,\\n                   \"threads\":20,\\n                   \"batch_size\":20,\\n                   \"output_npz_file\":locus+\".K562.DNASE.locus.bpnet.npz\"}\\n    fc_regions, fc_embeddings = compute_embeddings(fc_embedding_args)\\n'"
      ]
     },
     "execution_count": 5,
     "metadata": {},
     "output_type": "execute_result"
    }
   ],
   "source": [
    "## get the loci embeddings \n",
    "coord_prefix=\"/mnt/lab_data2/annashch/locusselect_applications/coordinates/K562/\"\n",
    "loci_df=pd.read_csv(\"/mnt/lab_data2/annashch/locusselect_applications/coordinates/K562/gene_to_fold.geneLocus.250bp.windows.hg19.bed\",header=None,sep='\\t')\n",
    "'''\n",
    "for index,row in loci_df.iterrows(): \n",
    "    locus=row[0] \n",
    "    split=row[1]\n",
    "    coords=coord_prefix+locus+\".geneLocus.250bp.windows.hg19.bed\"\n",
    "    #first, we get embeddings from the model fully connected layer \n",
    "    fc_embedding_args={\"input_bed_file\":coords,\n",
    "                   \"model_hdf5\":model_prefix+\".\"+str(0)+\".hdf5\",\n",
    "                   \"ref_fasta\":\"/users/annashch/male.hg19.fa\",\n",
    "                   \"center_on_summit\":True,\n",
    "                   \"center_on_bed_interval\":False,\n",
    "                   \"flank\":673,\n",
    "                   \"embedding_layer_name\":embedding_layer_name,\n",
    "                   \"embedding_input_name\":embedding_input_name,\n",
    "                   \"expand_dims\":False,\n",
    "                   \"threads\":20,\n",
    "                   \"batch_size\":20,\n",
    "                   \"output_npz_file\":locus+\".K562.DNASE.locus.bpnet.npz\"}\n",
    "    fc_regions, fc_embeddings = compute_embeddings(fc_embedding_args)\n",
    "'''"
   ]
  },
  {
   "cell_type": "code",
   "execution_count": 6,
   "metadata": {
    "ExecuteTime": {
     "end_time": "2020-06-08T06:25:54.415160Z",
     "start_time": "2020-06-08T06:25:52.758716Z"
    }
   },
   "outputs": [],
   "source": [
    "#combine the loci embeddings into a single data frame \n",
    "all_embeddings=None\n",
    "all_bed_entries=None\n",
    "locus_to_pos={}\n",
    "locus_suffix=\".K562.DNASE.locus.bpnet.npz\"\n",
    "loci=list(loci_df[0])\n",
    "last_index=0\n",
    "for locus in loci: \n",
    "    cur_embedding_data=np.load(locus+locus_suffix,allow_pickle=True)\n",
    "    cur_bed_entries=cur_embedding_data['bed_entries']\n",
    "    cur_embeddings=cur_embedding_data['embeddings']\n",
    "    if all_embeddings is None: \n",
    "        all_embeddings=cur_embeddings \n",
    "        all_bed_entries=cur_bed_entries\n",
    "    else: \n",
    "        all_embeddings=np.concatenate((all_embeddings,cur_embeddings),axis=0)\n",
    "        all_bed_entries=np.concatenate((all_bed_entries,cur_bed_entries),axis=0)\n",
    "    start_pos=last_index \n",
    "    end_pos=last_index+cur_embeddings.shape[0]\n",
    "    last_index=end_pos \n",
    "    locus_to_pos[locus]=[start_pos,end_pos]"
   ]
  },
  {
   "cell_type": "code",
   "execution_count": 7,
   "metadata": {
    "ExecuteTime": {
     "end_time": "2020-06-08T06:25:54.538429Z",
     "start_time": "2020-06-08T06:25:54.418203Z"
    }
   },
   "outputs": [
    {
     "data": {
      "text/plain": [
       "(76891, 500)"
      ]
     },
     "execution_count": 7,
     "metadata": {},
     "output_type": "execute_result"
    }
   ],
   "source": [
    "all_embeddings.shape"
   ]
  },
  {
   "cell_type": "code",
   "execution_count": 8,
   "metadata": {
    "ExecuteTime": {
     "end_time": "2020-06-08T06:25:56.836731Z",
     "start_time": "2020-06-08T06:25:54.540753Z"
    }
   },
   "outputs": [],
   "source": [
    "#augment with all peak embeddings \n",
    "splits=list(range(10))\n",
    "\n",
    "for split in splits: \n",
    "    cur_embeddings_data=np.load(str(split)+\".K562.DNASE.all_peaks.bpnet.npz\",allow_pickle=True)\n",
    "    cur_bed_entries=cur_embedding_data['bed_entries']\n",
    "    cur_embeddings=cur_embedding_data['embeddings']\n",
    "    all_embeddings=np.concatenate((all_embeddings,cur_embeddings),axis=0)\n",
    "    all_bed_entries=np.concatenate((all_bed_entries,cur_bed_entries),axis=0)"
   ]
  },
  {
   "cell_type": "code",
   "execution_count": 9,
   "metadata": {
    "ExecuteTime": {
     "end_time": "2020-06-08T06:25:57.425092Z",
     "start_time": "2020-06-08T06:25:56.838981Z"
    }
   },
   "outputs": [
    {
     "data": {
      "text/plain": [
       "(156891,)"
      ]
     },
     "execution_count": 9,
     "metadata": {},
     "output_type": "execute_result"
    }
   ],
   "source": [
    "all_bed_entries.shape"
   ]
  },
  {
   "cell_type": "code",
   "execution_count": 10,
   "metadata": {
    "ExecuteTime": {
     "end_time": "2020-06-08T06:25:57.497354Z",
     "start_time": "2020-06-08T06:25:57.429075Z"
    }
   },
   "outputs": [
    {
     "data": {
      "text/plain": [
       "(156891, 500)"
      ]
     },
     "execution_count": 10,
     "metadata": {},
     "output_type": "execute_result"
    }
   ],
   "source": [
    "all_embeddings.shape"
   ]
  },
  {
   "cell_type": "code",
   "execution_count": 11,
   "metadata": {
    "ExecuteTime": {
     "end_time": "2020-06-08T06:26:00.418468Z",
     "start_time": "2020-06-08T06:25:57.499277Z"
    }
   },
   "outputs": [],
   "source": [
    "# run PCA on the embeddings \n",
    "# Dimension reduction and clustering libraries\n",
    "import umap\n",
    "import hdbscan\n",
    "import sklearn.cluster as cluster\n",
    "from sklearn.metrics import adjusted_rand_score, adjusted_mutual_info_score\n"
   ]
  },
  {
   "cell_type": "code",
   "execution_count": 12,
   "metadata": {
    "ExecuteTime": {
     "end_time": "2020-06-08T06:26:07.599890Z",
     "start_time": "2020-06-08T06:26:00.421444Z"
    }
   },
   "outputs": [],
   "source": [
    "from sklearn.decomposition import PCA \n",
    "  \n",
    "pca = PCA(n_components = 500) \n",
    "  \n",
    "pca_res = pca.fit_transform(all_embeddings)   \n",
    "explained_variance = pca.explained_variance_ratio_ # verify that the PCA embeddings have same UMAP projection as original embeddings. "
   ]
  },
  {
   "cell_type": "code",
   "execution_count": 13,
   "metadata": {
    "ExecuteTime": {
     "end_time": "2020-06-08T06:26:07.691375Z",
     "start_time": "2020-06-08T06:26:07.603727Z"
    }
   },
   "outputs": [
    {
     "data": {
      "text/plain": [
       "array([0.63661154, 0.93167107, 0.95777621, 0.97041541, 0.97831625,\n",
       "       0.98259891, 0.98539123, 0.98793319, 0.98950692, 0.99080064,\n",
       "       0.99191568, 0.99275421, 0.99338621, 0.9938742 , 0.99429039,\n",
       "       0.99466666, 0.99499754, 0.99528147, 0.99553015, 0.99575101,\n",
       "       0.99596244, 0.99615366, 0.99632179, 0.99647846, 0.99662198,\n",
       "       0.99675278, 0.99686997, 0.99697607, 0.99707127, 0.99715655,\n",
       "       0.99723989, 0.99732014, 0.99739867, 0.9974692 , 0.9975376 ,\n",
       "       0.99760099, 0.99765924, 0.99771516, 0.9977662 , 0.99781658,\n",
       "       0.99786517, 0.9979103 , 0.9979538 , 0.99799428, 0.99803353,\n",
       "       0.99807176, 0.9981095 , 0.99814511, 0.99817968, 0.99821373,\n",
       "       0.99824635, 0.99827825, 0.99830903, 0.99833897, 0.99836757,\n",
       "       0.99839515, 0.9984224 , 0.99844867, 0.99847439, 0.99849958,\n",
       "       0.99852393, 0.99854801, 0.99857149, 0.99859413, 0.99861579,\n",
       "       0.99863681, 0.99865723, 0.99867734, 0.99869718, 0.99871673,\n",
       "       0.99873519, 0.99875346, 0.99877108, 0.99878832, 0.99880545,\n",
       "       0.99882148, 0.99883737, 0.99885308, 0.99886844, 0.99888358,\n",
       "       0.99889849, 0.99891316, 0.99892737, 0.99894151, 0.99895508,\n",
       "       0.99896855, 0.99898189, 0.99899499, 0.9990076 , 0.99901993,\n",
       "       0.99903224, 0.99904435, 0.99905625, 0.99906792, 0.99907947,\n",
       "       0.9990907 , 0.99910188, 0.99911255, 0.99912304, 0.99913344,\n",
       "       0.99914372, 0.99915386, 0.99916378, 0.99917365, 0.99918322,\n",
       "       0.99919269, 0.99920202, 0.99921108, 0.99922001, 0.99922884,\n",
       "       0.99923759, 0.99924612, 0.99925437, 0.99926258, 0.99927059,\n",
       "       0.99927855, 0.99928648, 0.99929431, 0.99930201, 0.99930962,\n",
       "       0.99931712, 0.99932448, 0.99933173, 0.99933888, 0.999346  ,\n",
       "       0.99935302, 0.99935997, 0.99936686, 0.99937361, 0.99938025,\n",
       "       0.9993868 , 0.9993932 , 0.99939952, 0.99940582, 0.99941208,\n",
       "       0.99941825, 0.99942426, 0.99943021, 0.99943606, 0.99944181,\n",
       "       0.99944752, 0.99945318, 0.99945875, 0.9994642 , 0.9994696 ,\n",
       "       0.999475  , 0.99948036, 0.99948564, 0.99949081, 0.99949591,\n",
       "       0.99950096, 0.99950597, 0.99951086, 0.99951568, 0.99952047,\n",
       "       0.99952521, 0.99952993, 0.99953463, 0.99953927, 0.99954384,\n",
       "       0.9995484 , 0.99955292, 0.9995573 , 0.99956166, 0.99956594,\n",
       "       0.99957021, 0.99957442, 0.99957856, 0.99958265, 0.99958669,\n",
       "       0.9995907 , 0.99959465, 0.99959859, 0.99960249, 0.99960636,\n",
       "       0.99961019, 0.99961395, 0.99961768, 0.99962139, 0.99962506,\n",
       "       0.99962872, 0.99963236, 0.99963592, 0.99963945, 0.99964296,\n",
       "       0.99964645, 0.9996499 , 0.99965331, 0.99965671, 0.99966008,\n",
       "       0.99966339, 0.99966667, 0.99966991, 0.9996731 , 0.99967626,\n",
       "       0.99967938, 0.99968246, 0.99968553, 0.99968856, 0.99969157,\n",
       "       0.99969457, 0.99969754, 0.99970048, 0.99970339, 0.99970626,\n",
       "       0.99970913, 0.99971198, 0.99971478, 0.99971756, 0.99972029,\n",
       "       0.99972301, 0.99972572, 0.99972842, 0.99973109, 0.99973374,\n",
       "       0.99973635, 0.99973892, 0.99974147, 0.999744  , 0.99974652,\n",
       "       0.999749  , 0.99975146, 0.99975391, 0.99975634, 0.99975876,\n",
       "       0.99976114, 0.9997635 , 0.99976585, 0.99976818, 0.99977049,\n",
       "       0.99977278, 0.99977503, 0.99977726, 0.99977948, 0.99978168,\n",
       "       0.99978387, 0.99978605, 0.99978822, 0.99979035, 0.99979246,\n",
       "       0.99979456, 0.99979664, 0.99979872, 0.99980077, 0.99980281,\n",
       "       0.99980482, 0.99980683, 0.99980882, 0.9998108 , 0.99981277,\n",
       "       0.99981473, 0.99981666, 0.99981858, 0.99982047, 0.99982235,\n",
       "       0.99982421, 0.99982606, 0.99982788, 0.99982968, 0.99983148,\n",
       "       0.99983326, 0.99983503, 0.99983677, 0.99983851, 0.99984022,\n",
       "       0.99984192, 0.99984361, 0.99984528, 0.99984694, 0.99984859,\n",
       "       0.99985022, 0.99985182, 0.99985342, 0.999855  , 0.99985658,\n",
       "       0.99985814, 0.99985969, 0.99986122, 0.99986275, 0.99986426,\n",
       "       0.99986576, 0.99986726, 0.99986874, 0.99987021, 0.99987167,\n",
       "       0.99987312, 0.99987456, 0.99987597, 0.99987738, 0.99987877,\n",
       "       0.99988015, 0.99988151, 0.99988288, 0.99988423, 0.99988556,\n",
       "       0.99988689, 0.99988821, 0.99988952, 0.99989081, 0.99989209,\n",
       "       0.99989336, 0.99989462, 0.99989586, 0.99989709, 0.99989832,\n",
       "       0.99989953, 0.99990074, 0.99990193, 0.99990311, 0.99990429,\n",
       "       0.99990546, 0.99990662, 0.99990777, 0.99990891, 0.99991004,\n",
       "       0.99991116, 0.99991227, 0.99991337, 0.99991445, 0.99991553,\n",
       "       0.9999166 , 0.99991765, 0.9999187 , 0.99991974, 0.99992076,\n",
       "       0.99992178, 0.99992279, 0.99992379, 0.99992478, 0.99992574,\n",
       "       0.99992671, 0.99992766, 0.99992861, 0.99992955, 0.99993048,\n",
       "       0.9999314 , 0.99993232, 0.99993323, 0.99993412, 0.99993501,\n",
       "       0.99993589, 0.99993677, 0.99993764, 0.9999385 , 0.99993935,\n",
       "       0.9999402 , 0.99994105, 0.99994188, 0.99994271, 0.99994353,\n",
       "       0.99994434, 0.99994514, 0.99994593, 0.99994672, 0.9999475 ,\n",
       "       0.99994827, 0.99994903, 0.99994978, 0.99995053, 0.99995127,\n",
       "       0.999952  , 0.99995273, 0.99995345, 0.99995416, 0.99995486,\n",
       "       0.99995556, 0.99995626, 0.99995694, 0.99995762, 0.99995828,\n",
       "       0.99995895, 0.9999596 , 0.99996025, 0.9999609 , 0.99996153,\n",
       "       0.99996216, 0.99996278, 0.99996339, 0.999964  , 0.9999646 ,\n",
       "       0.9999652 , 0.99996579, 0.99996638, 0.99996696, 0.99996753,\n",
       "       0.99996809, 0.99996866, 0.99996922, 0.99996977, 0.99997032,\n",
       "       0.99997086, 0.99997139, 0.99997192, 0.99997245, 0.99997297,\n",
       "       0.99997348, 0.99997399, 0.99997449, 0.99997498, 0.99997547,\n",
       "       0.99997595, 0.99997643, 0.9999769 , 0.99997737, 0.99997783,\n",
       "       0.99997828, 0.99997873, 0.99997918, 0.99997962, 0.99998005,\n",
       "       0.99998048, 0.99998091, 0.99998133, 0.99998174, 0.99998214,\n",
       "       0.99998255, 0.99998295, 0.99998334, 0.99998374, 0.99998413,\n",
       "       0.99998451, 0.99998488, 0.99998526, 0.99998562, 0.99998599,\n",
       "       0.99998635, 0.99998671, 0.99998707, 0.99998742, 0.99998776,\n",
       "       0.9999881 , 0.99998844, 0.99998877, 0.9999891 , 0.99998942,\n",
       "       0.99998974, 0.99999005, 0.99999036, 0.99999067, 0.99999097,\n",
       "       0.99999127, 0.99999157, 0.99999186, 0.99999215, 0.99999244,\n",
       "       0.99999271, 0.99999299, 0.99999326, 0.99999352, 0.99999379,\n",
       "       0.99999404, 0.99999429, 0.99999453, 0.99999477, 0.999995  ,\n",
       "       0.99999523, 0.99999546, 0.99999568, 0.9999959 , 0.99999611,\n",
       "       0.99999632, 0.99999653, 0.99999672, 0.99999692, 0.99999711,\n",
       "       0.99999729, 0.99999747, 0.99999764, 0.99999781, 0.99999797,\n",
       "       0.99999812, 0.99999827, 0.99999841, 0.99999855, 0.99999868,\n",
       "       0.99999881, 0.99999893, 0.99999903, 0.99999913, 0.99999923,\n",
       "       0.99999933, 0.99999942, 0.99999951, 0.99999958, 0.99999965,\n",
       "       0.9999997 , 0.99999976, 0.9999998 , 0.99999983, 0.99999987,\n",
       "       0.9999999 , 0.99999992, 0.99999995, 0.99999996, 0.99999998,\n",
       "       0.99999999, 1.        , 1.        , 1.        , 1.        ])"
      ]
     },
     "execution_count": 13,
     "metadata": {},
     "output_type": "execute_result"
    }
   ],
   "source": [
    "explained_variance[0:10]\n",
    "np.cumsum(explained_variance)"
   ]
  },
  {
   "cell_type": "code",
   "execution_count": 14,
   "metadata": {
    "ExecuteTime": {
     "end_time": "2020-06-08T06:26:07.948910Z",
     "start_time": "2020-06-08T06:26:07.693637Z"
    }
   },
   "outputs": [
    {
     "data": {
      "text/plain": [
       "[<matplotlib.lines.Line2D at 0x7fdaadf95a90>]"
      ]
     },
     "execution_count": 14,
     "metadata": {},
     "output_type": "execute_result"
    },
    {
     "data": {
      "image/png": "[encoded data removed]",
      "text/plain": [
       "<Figure size 432x288 with 1 Axes>"
      ]
     },
     "metadata": {
      "needs_background": "light"
     },
     "output_type": "display_data"
    }
   ],
   "source": [
    "from matplotlib import pyplot as plt\n",
    "plt.plot(explained_variance)"
   ]
  },
  {
   "cell_type": "code",
   "execution_count": 15,
   "metadata": {
    "ExecuteTime": {
     "end_time": "2020-06-08T06:26:08.246502Z",
     "start_time": "2020-06-08T06:26:07.950946Z"
    }
   },
   "outputs": [
    {
     "data": {
      "text/plain": [
       "[<matplotlib.lines.Line2D at 0x7fdaadf3e950>]"
      ]
     },
     "execution_count": 15,
     "metadata": {},
     "output_type": "execute_result"
    },
    {
     "data": {
      "image/png": "[encoded data removed]",
      "text/plain": [
       "<Figure size 432x288 with 1 Axes>"
      ]
     },
     "metadata": {
      "needs_background": "light"
     },
     "output_type": "display_data"
    }
   ],
   "source": [
    "plt.plot(pca_res[:,0],pca_res[:,1],'bo',markersize=1,alpha=0.3)\n"
   ]
  },
  {
   "cell_type": "code",
   "execution_count": 16,
   "metadata": {
    "ExecuteTime": {
     "end_time": "2020-06-08T06:26:08.550689Z",
     "start_time": "2020-06-08T06:26:08.248685Z"
    }
   },
   "outputs": [
    {
     "data": {
      "text/plain": [
       "[<matplotlib.lines.Line2D at 0x7fdaa5a90290>]"
      ]
     },
     "execution_count": 16,
     "metadata": {},
     "output_type": "execute_result"
    },
    {
     "data": {
      "image/png": "[encoded data removed]",
      "text/plain": [
       "<Figure size 432x288 with 1 Axes>"
      ]
     },
     "metadata": {
      "needs_background": "light"
     },
     "output_type": "display_data"
    }
   ],
   "source": [
    "plt.plot(pca_res[:,1],pca_res[:,2],'bo',markersize=1,alpha=0.3)\n"
   ]
  },
  {
   "cell_type": "code",
   "execution_count": 17,
   "metadata": {
    "ExecuteTime": {
     "end_time": "2020-06-08T06:26:09.640338Z",
     "start_time": "2020-06-08T06:26:08.552789Z"
    }
   },
   "outputs": [],
   "source": [
    "from plotnine import * "
   ]
  },
  {
   "cell_type": "markdown",
   "metadata": {},
   "source": [
    "## We subset to 10 pc's "
   ]
  },
  {
   "cell_type": "code",
   "execution_count": 18,
   "metadata": {
    "ExecuteTime": {
     "end_time": "2020-06-08T06:26:09.714474Z",
     "start_time": "2020-06-08T06:26:09.643218Z"
    }
   },
   "outputs": [
    {
     "data": {
      "text/plain": [
       "(8000, 10)"
      ]
     },
     "execution_count": 18,
     "metadata": {},
     "output_type": "execute_result"
    }
   ],
   "source": [
    "pca_res[locus_to_pos[locus][0]:locus_to_pos[locus][1],0:10].shape"
   ]
  },
  {
   "cell_type": "code",
   "execution_count": null,
   "metadata": {
    "ExecuteTime": {
     "start_time": "2020-06-08T06:25:56.427Z"
    }
   },
   "outputs": [
    {
     "name": "stdout",
     "output_type": "stream",
     "text": [
      "BCL11A\n",
      "['chr2\\t61779000\\t61779250\\t0.444', 'chr2\\t61779250\\t61779500\\t0.5', 'chr2\\t61779500\\t61779750\\t0.504', 'chr2\\t61779750\\t61780000\\t0.48', 'chr2\\t61780000\\t61780250\\t0.448', 'chr2\\t61780250\\t61780500\\t0.524', 'chr2\\t61780500\\t61780750\\t0.472', 'chr2\\t61780750\\t61781000\\t0.388', 'chr2\\t61781000\\t61781250\\t0.424', 'chr2\\t61781250\\t61781500\\t0.508']\n",
      "(8000, 1)\n",
      "(8000, 11)\n"
     ]
    }
   ],
   "source": [
    "for locus in loci: \n",
    "    gc_content=open(\"/mnt/lab_data2/annashch/locusselect_applications/compute_gc/gc.\"+locus+\".bed\",'r').read().strip().split('\\n')\n",
    "    print(locus)\n",
    "    print(gc_content[-10::])\n",
    "    gc_vals=np.expand_dims(np.asarray([float(i.split('\\t')[-1]) for i in gc_content]),axis=1)\n",
    "    print(gc_vals.shape)\n",
    "    #add gc column to embedding \n",
    "    pca_with_gc=np.concatenate((pca_res[locus_to_pos[locus][0]:locus_to_pos[locus][1],0:10],gc_vals),axis=1)\n",
    "    coords=all_bed_entries[locus_to_pos[locus][0]:locus_to_pos[locus][1]]\n",
    "    print(pca_with_gc.shape)\n",
    "    #save \n",
    "    np.savez_compressed(locus+\".K562.DNASE.locus.bpnet.top10pcs.npz\",bed_entries=coords,embeddings=pca_with_gc)\n",
    "    pca_2d = umap.UMAP(random_state=42).fit_transform(pca_with_gc)\n",
    "    df_pca=pd.DataFrame.from_dict({'pca_2d_1':pca_2d[:,0],\n",
    "                              'pca_2d_2':pca_2d[:,1],\n",
    "                              'gc':gc_vals.squeeze()})\n",
    "    (ggplot(df_pca,aes(x='pca_2d_1', y='pca_2d_2',color='gc'))+\n",
    "       geom_point(size=1,alpha=0.3)+\n",
    "       ggtitle(locus+\", BPNET, Global Ave. Pool, K562, DNASE, 10 PCs\")).save(locus+\".K562.DNASE.locus.bpnet.top10pcs.png\",width=3,height=3,units='in',dpi=60)\n",
    "    \n",
    "    un_corrected_fc_embeddings_2d = umap.UMAP(random_state=42).fit_transform(all_embeddings[locus_to_pos[locus][0]:locus_to_pos[locus][1]])\n",
    "    \n",
    "    df_fc=pd.DataFrame.from_dict({'un_corrected_fc_1':un_corrected_fc_embeddings_2d[:,0],\n",
    "                              'un_corrected_fc_2':un_corrected_fc_embeddings_2d[:,1],\n",
    "                              'gc':gc_vals.squeeze()})\n",
    "    (ggplot(df_fc,aes(x='un_corrected_fc_1', y='un_corrected_fc_2',color='gc'))+\n",
    "       geom_point(size=1,alpha=0.3)+\n",
    "       ggtitle(locus+\", BPNET, Global Ave. Pool, K562, DNASE\")).save(locus+\".K562.DNASE.locus.bpnet.png\",width=3,height=3,units='in',dpi=60)\n"
   ]
  },
  {
   "cell_type": "code",
   "execution_count": null,
   "metadata": {},
   "outputs": [],
   "source": [
    "model"
   ]
  },
  {
   "cell_type": "code",
   "execution_count": null,
   "metadata": {},
   "outputs": [],
   "source": [
    "from kerasAC.custom_losses import *\n",
    "from kerasAC.metrics import recall, specificity, fpr, fnr, precision, f1\n",
    "from keras.models import load_model\n",
    "import pdb\n",
    "custom_objects={\"recall\":recall,\n",
    "                \"sensitivity\":recall,\n",
    "                \"specificity\":specificity,\n",
    "                \"fpr\":fpr,\n",
    "                \"fnr\":fnr,\n",
    "                \"precision\":precision,\n",
    "                \"f1\":f1,\n",
    "                \"ambig_binary_crossentropy\":ambig_binary_crossentropy,\n",
    "                \"ambig_mean_absolute_error\":ambig_mean_absolute_error,\n",
    "                \"ambig_mean_squared_error\":ambig_mean_squared_error}\n",
    "model=load_model(model,custom_objects=custom_objects)\n"
   ]
  },
  {
   "cell_type": "code",
   "execution_count": null,
   "metadata": {},
   "outputs": [],
   "source": [
    "all_n=np.zeros((1,1,1000,4))\n",
    "n_gc=np.zeros((1,))"
   ]
  },
  {
   "cell_type": "code",
   "execution_count": null,
   "metadata": {},
   "outputs": [],
   "source": [
    "model.predict([all_n,n_gc])"
   ]
  },
  {
   "cell_type": "code",
   "execution_count": null,
   "metadata": {},
   "outputs": [],
   "source": []
  }
 ],
 "metadata": {
  "colab": {
   "include_colab_link": true,
   "name": "regression on 200 bp genome bins.ipynb",
   "provenance": [],
   "version": "0.3.2"
  },
  "kernelspec": {
   "display_name": "Python 3",
   "language": "python",
   "name": "python3"
  },
  "language_info": {
   "codemirror_mode": {
    "name": "ipython",
    "version": 3
   },
   "file_extension": ".py",
   "mimetype": "text/x-python",
   "name": "python",
   "nbconvert_exporter": "python",
   "pygments_lexer": "ipython3",
   "version": "3.7.6"
  }
 },
 "nbformat": 4,
 "nbformat_minor": 1
}
